{
 "cells": [
  {
   "cell_type": "markdown",
   "id": "f6ae6296",
   "metadata": {},
   "source": [
    "# Weather Classification- Good Day for a BBQ?\n",
    "\n",
    "Lynn Anderson"
   ]
  },
  {
   "cell_type": "markdown",
   "id": "55d0f37a",
   "metadata": {},
   "source": [
    "# Business Understanding\n",
    "\n",
    "All Fired Up is a renowned barbeque and grill restaurant located in Heathrow, UK. They serve food from their kitchen every day, and- weather permitting- they also serve up freshly grilled food featuring a variety of real hardwood lump charcoal. They are famous throughout the city for their charcoal grilled foods, and whenever the outdoor grills are open, get lots more business. However, setting up the outdoor charcoal grills takes a lot of time and resources, so it is only worth it to fire up the charcoal and run the grill if it is nearly certain to be a nice day for barbequing. However, they also lose out on profits by not running the outdoor grill, since it attracts many more customers and they can charge a higher price. \n",
    "\n",
    "Thus, it will be important for my classification model to have a very low rate of false positive errors (ie a predicted 'good' day that is actually not suitable for a bbq), but not entirely at the expense of a large number of false negatives. For my evaluation metric, I am primarily concerned with the F1 score, since it represents the mean of the precesion and recall, and is a better metric on imbalanced datasets than accuracy or AUC. I will also be considering precision when evaluating models, since a high precision indicates the model predicts few false positives. ability to both capture positive cases (recall) and be accurate with the cases it does capture (precision) "
   ]
  },
  {
   "cell_type": "markdown",
   "id": "282abe7a",
   "metadata": {},
   "source": [
    "\n",
    "# Data Understanding\n",
    "\n",
    "The dataset consisted of two csv files- one containing records for in different cities, and the other with boolean values for whether it was a good bbq day. Both datasets contained 3,654 entries, each representing a day that weather information was recorded. I was only interested in data related to the city of Heathrow, so removed irrelevant columns and merged the two dataframes before performing any exploratory analysis or modeling. "
   ]
  },
  {
   "cell_type": "markdown",
   "id": "34596259",
   "metadata": {},
   "source": [
    "# Data Preparation"
   ]
  },
  {
   "cell_type": "code",
   "execution_count": 98,
   "id": "a3efca82",
   "metadata": {},
   "outputs": [],
   "source": [
    "# imports\n",
    "\n",
    "import numpy as np\n",
    "import pandas as pd\n",
    "import matplotlib.pyplot as plt\n",
    "import seaborn as sns\n",
    "from sklearn.metrics import classification_report, f1_score, confusion_matrix, mean_squared_error, roc_curve, auc\n",
    "from sklearn.feature_selection import (VarianceThreshold, SelectKBest, f_regression, mutual_info_regression, \n",
    "    RFE, RFECV)\n",
    "from sklearn.model_selection import train_test_split, cross_val_score, GridSearchCV\n",
    "from sklearn.preprocessing import OneHotEncoder, StandardScaler\n",
    "from sklearn.ensemble import RandomForestClassifier, BaggingClassifier\n",
    "from sklearn.tree import DecisionTreeClassifier \n",
    "from sklearn.neighbors import KNeighborsClassifier\n",
    "from sklearn import tree\n",
    "from sklearn.linear_model import LogisticRegression\n",
    "import warnings\n",
    "warnings.filterwarnings('ignore')\n",
    "%matplotlib inline"
   ]
  },
  {
   "cell_type": "code",
   "execution_count": 99,
   "id": "b6934ba7",
   "metadata": {},
   "outputs": [
    {
     "data": {
      "text/html": [
       "<div>\n",
       "<style scoped>\n",
       "    .dataframe tbody tr th:only-of-type {\n",
       "        vertical-align: middle;\n",
       "    }\n",
       "\n",
       "    .dataframe tbody tr th {\n",
       "        vertical-align: top;\n",
       "    }\n",
       "\n",
       "    .dataframe thead th {\n",
       "        text-align: right;\n",
       "    }\n",
       "</style>\n",
       "<table border=\"1\" class=\"dataframe\">\n",
       "  <thead>\n",
       "    <tr style=\"text-align: right;\">\n",
       "      <th></th>\n",
       "      <th>DATE</th>\n",
       "      <th>MONTH</th>\n",
       "      <th>BASEL_cloud_cover</th>\n",
       "      <th>BASEL_humidity</th>\n",
       "      <th>BASEL_pressure</th>\n",
       "      <th>BASEL_global_radiation</th>\n",
       "      <th>BASEL_precipitation</th>\n",
       "      <th>BASEL_sunshine</th>\n",
       "      <th>BASEL_temp_mean</th>\n",
       "      <th>BASEL_temp_min</th>\n",
       "      <th>...</th>\n",
       "      <th>STOCKHOLM_temp_min</th>\n",
       "      <th>STOCKHOLM_temp_max</th>\n",
       "      <th>TOURS_wind_speed</th>\n",
       "      <th>TOURS_humidity</th>\n",
       "      <th>TOURS_pressure</th>\n",
       "      <th>TOURS_global_radiation</th>\n",
       "      <th>TOURS_precipitation</th>\n",
       "      <th>TOURS_temp_mean</th>\n",
       "      <th>TOURS_temp_min</th>\n",
       "      <th>TOURS_temp_max</th>\n",
       "    </tr>\n",
       "  </thead>\n",
       "  <tbody>\n",
       "    <tr>\n",
       "      <th>0</th>\n",
       "      <td>20000101</td>\n",
       "      <td>1</td>\n",
       "      <td>8</td>\n",
       "      <td>0.89</td>\n",
       "      <td>1.0286</td>\n",
       "      <td>0.20</td>\n",
       "      <td>0.03</td>\n",
       "      <td>0.0</td>\n",
       "      <td>2.9</td>\n",
       "      <td>1.6</td>\n",
       "      <td>...</td>\n",
       "      <td>-9.3</td>\n",
       "      <td>0.7</td>\n",
       "      <td>1.6</td>\n",
       "      <td>0.97</td>\n",
       "      <td>1.0275</td>\n",
       "      <td>0.25</td>\n",
       "      <td>0.04</td>\n",
       "      <td>8.5</td>\n",
       "      <td>7.2</td>\n",
       "      <td>9.8</td>\n",
       "    </tr>\n",
       "    <tr>\n",
       "      <th>1</th>\n",
       "      <td>20000102</td>\n",
       "      <td>1</td>\n",
       "      <td>8</td>\n",
       "      <td>0.87</td>\n",
       "      <td>1.0318</td>\n",
       "      <td>0.25</td>\n",
       "      <td>0.00</td>\n",
       "      <td>0.0</td>\n",
       "      <td>3.6</td>\n",
       "      <td>2.7</td>\n",
       "      <td>...</td>\n",
       "      <td>0.5</td>\n",
       "      <td>2.0</td>\n",
       "      <td>2.0</td>\n",
       "      <td>0.99</td>\n",
       "      <td>1.0293</td>\n",
       "      <td>0.17</td>\n",
       "      <td>0.16</td>\n",
       "      <td>7.9</td>\n",
       "      <td>6.6</td>\n",
       "      <td>9.2</td>\n",
       "    </tr>\n",
       "    <tr>\n",
       "      <th>2</th>\n",
       "      <td>20000103</td>\n",
       "      <td>1</td>\n",
       "      <td>5</td>\n",
       "      <td>0.81</td>\n",
       "      <td>1.0314</td>\n",
       "      <td>0.50</td>\n",
       "      <td>0.00</td>\n",
       "      <td>3.7</td>\n",
       "      <td>2.2</td>\n",
       "      <td>0.1</td>\n",
       "      <td>...</td>\n",
       "      <td>-1.0</td>\n",
       "      <td>2.8</td>\n",
       "      <td>3.4</td>\n",
       "      <td>0.91</td>\n",
       "      <td>1.0267</td>\n",
       "      <td>0.27</td>\n",
       "      <td>0.00</td>\n",
       "      <td>8.1</td>\n",
       "      <td>6.6</td>\n",
       "      <td>9.6</td>\n",
       "    </tr>\n",
       "    <tr>\n",
       "      <th>3</th>\n",
       "      <td>20000104</td>\n",
       "      <td>1</td>\n",
       "      <td>7</td>\n",
       "      <td>0.79</td>\n",
       "      <td>1.0262</td>\n",
       "      <td>0.63</td>\n",
       "      <td>0.35</td>\n",
       "      <td>6.9</td>\n",
       "      <td>3.9</td>\n",
       "      <td>0.5</td>\n",
       "      <td>...</td>\n",
       "      <td>2.5</td>\n",
       "      <td>4.6</td>\n",
       "      <td>4.9</td>\n",
       "      <td>0.95</td>\n",
       "      <td>1.0222</td>\n",
       "      <td>0.11</td>\n",
       "      <td>0.44</td>\n",
       "      <td>8.6</td>\n",
       "      <td>6.4</td>\n",
       "      <td>10.8</td>\n",
       "    </tr>\n",
       "    <tr>\n",
       "      <th>4</th>\n",
       "      <td>20000105</td>\n",
       "      <td>1</td>\n",
       "      <td>5</td>\n",
       "      <td>0.90</td>\n",
       "      <td>1.0246</td>\n",
       "      <td>0.51</td>\n",
       "      <td>0.07</td>\n",
       "      <td>3.7</td>\n",
       "      <td>6.0</td>\n",
       "      <td>3.8</td>\n",
       "      <td>...</td>\n",
       "      <td>-1.8</td>\n",
       "      <td>2.9</td>\n",
       "      <td>3.6</td>\n",
       "      <td>0.95</td>\n",
       "      <td>1.0209</td>\n",
       "      <td>0.39</td>\n",
       "      <td>0.04</td>\n",
       "      <td>8.0</td>\n",
       "      <td>6.4</td>\n",
       "      <td>9.5</td>\n",
       "    </tr>\n",
       "  </tbody>\n",
       "</table>\n",
       "<p>5 rows × 165 columns</p>\n",
       "</div>"
      ],
      "text/plain": [
       "       DATE  MONTH  BASEL_cloud_cover  BASEL_humidity  BASEL_pressure  \\\n",
       "0  20000101      1                  8            0.89          1.0286   \n",
       "1  20000102      1                  8            0.87          1.0318   \n",
       "2  20000103      1                  5            0.81          1.0314   \n",
       "3  20000104      1                  7            0.79          1.0262   \n",
       "4  20000105      1                  5            0.90          1.0246   \n",
       "\n",
       "   BASEL_global_radiation  BASEL_precipitation  BASEL_sunshine  \\\n",
       "0                    0.20                 0.03             0.0   \n",
       "1                    0.25                 0.00             0.0   \n",
       "2                    0.50                 0.00             3.7   \n",
       "3                    0.63                 0.35             6.9   \n",
       "4                    0.51                 0.07             3.7   \n",
       "\n",
       "   BASEL_temp_mean  BASEL_temp_min  ...  STOCKHOLM_temp_min  \\\n",
       "0              2.9             1.6  ...                -9.3   \n",
       "1              3.6             2.7  ...                 0.5   \n",
       "2              2.2             0.1  ...                -1.0   \n",
       "3              3.9             0.5  ...                 2.5   \n",
       "4              6.0             3.8  ...                -1.8   \n",
       "\n",
       "   STOCKHOLM_temp_max  TOURS_wind_speed  TOURS_humidity  TOURS_pressure  \\\n",
       "0                 0.7               1.6            0.97          1.0275   \n",
       "1                 2.0               2.0            0.99          1.0293   \n",
       "2                 2.8               3.4            0.91          1.0267   \n",
       "3                 4.6               4.9            0.95          1.0222   \n",
       "4                 2.9               3.6            0.95          1.0209   \n",
       "\n",
       "   TOURS_global_radiation  TOURS_precipitation  TOURS_temp_mean  \\\n",
       "0                    0.25                 0.04              8.5   \n",
       "1                    0.17                 0.16              7.9   \n",
       "2                    0.27                 0.00              8.1   \n",
       "3                    0.11                 0.44              8.6   \n",
       "4                    0.39                 0.04              8.0   \n",
       "\n",
       "   TOURS_temp_min  TOURS_temp_max  \n",
       "0             7.2             9.8  \n",
       "1             6.6             9.2  \n",
       "2             6.6             9.6  \n",
       "3             6.4            10.8  \n",
       "4             6.4             9.5  \n",
       "\n",
       "[5 rows x 165 columns]"
      ]
     },
     "execution_count": 99,
     "metadata": {},
     "output_type": "execute_result"
    }
   ],
   "source": [
    "# read in weather records \n",
    "df = pd.read_csv('data/weather_prediction_dataset.csv')\n",
    "df.head()"
   ]
  },
  {
   "cell_type": "markdown",
   "id": "a54eca0a",
   "metadata": {},
   "source": [
    "Each row contains weather related data for 18 different locations from a specific date."
   ]
  },
  {
   "cell_type": "code",
   "execution_count": 100,
   "id": "87c8f29d",
   "metadata": {},
   "outputs": [
    {
     "data": {
      "text/html": [
       "<div>\n",
       "<style scoped>\n",
       "    .dataframe tbody tr th:only-of-type {\n",
       "        vertical-align: middle;\n",
       "    }\n",
       "\n",
       "    .dataframe tbody tr th {\n",
       "        vertical-align: top;\n",
       "    }\n",
       "\n",
       "    .dataframe thead th {\n",
       "        text-align: right;\n",
       "    }\n",
       "</style>\n",
       "<table border=\"1\" class=\"dataframe\">\n",
       "  <thead>\n",
       "    <tr style=\"text-align: right;\">\n",
       "      <th></th>\n",
       "      <th>DATE</th>\n",
       "      <th>BASEL_BBQ_weather</th>\n",
       "      <th>BUDAPEST_BBQ_weather</th>\n",
       "      <th>DE_BBQ_weather</th>\n",
       "      <th>DRESDEN_BBQ_weather</th>\n",
       "      <th>DUSSELDORF_BBQ_weather</th>\n",
       "      <th>HEATHROW_BBQ_weather</th>\n",
       "      <th>KASSEL_BBQ_weather</th>\n",
       "      <th>LJUBLJANA_BBQ_weather</th>\n",
       "      <th>MAASTRICHT_BBQ_weather</th>\n",
       "      <th>MALMO_BBQ_weather</th>\n",
       "      <th>MONTELIMAR_BBQ_weather</th>\n",
       "      <th>MUENCHEN_BBQ_weather</th>\n",
       "      <th>OSLO_BBQ_weather</th>\n",
       "      <th>PERPIGNAN_BBQ_weather</th>\n",
       "      <th>SONNBLICK_BBQ_weather</th>\n",
       "      <th>STOCKHOLM_BBQ_weather</th>\n",
       "      <th>TOURS_BBQ_weather</th>\n",
       "    </tr>\n",
       "  </thead>\n",
       "  <tbody>\n",
       "    <tr>\n",
       "      <th>0</th>\n",
       "      <td>20000101</td>\n",
       "      <td>False</td>\n",
       "      <td>False</td>\n",
       "      <td>False</td>\n",
       "      <td>False</td>\n",
       "      <td>False</td>\n",
       "      <td>False</td>\n",
       "      <td>False</td>\n",
       "      <td>False</td>\n",
       "      <td>False</td>\n",
       "      <td>False</td>\n",
       "      <td>False</td>\n",
       "      <td>False</td>\n",
       "      <td>False</td>\n",
       "      <td>False</td>\n",
       "      <td>False</td>\n",
       "      <td>False</td>\n",
       "      <td>False</td>\n",
       "    </tr>\n",
       "    <tr>\n",
       "      <th>1</th>\n",
       "      <td>20000102</td>\n",
       "      <td>False</td>\n",
       "      <td>False</td>\n",
       "      <td>False</td>\n",
       "      <td>False</td>\n",
       "      <td>False</td>\n",
       "      <td>False</td>\n",
       "      <td>False</td>\n",
       "      <td>False</td>\n",
       "      <td>False</td>\n",
       "      <td>False</td>\n",
       "      <td>False</td>\n",
       "      <td>False</td>\n",
       "      <td>False</td>\n",
       "      <td>False</td>\n",
       "      <td>False</td>\n",
       "      <td>False</td>\n",
       "      <td>False</td>\n",
       "    </tr>\n",
       "    <tr>\n",
       "      <th>2</th>\n",
       "      <td>20000103</td>\n",
       "      <td>False</td>\n",
       "      <td>False</td>\n",
       "      <td>False</td>\n",
       "      <td>False</td>\n",
       "      <td>False</td>\n",
       "      <td>False</td>\n",
       "      <td>False</td>\n",
       "      <td>False</td>\n",
       "      <td>False</td>\n",
       "      <td>False</td>\n",
       "      <td>False</td>\n",
       "      <td>False</td>\n",
       "      <td>False</td>\n",
       "      <td>False</td>\n",
       "      <td>False</td>\n",
       "      <td>False</td>\n",
       "      <td>False</td>\n",
       "    </tr>\n",
       "    <tr>\n",
       "      <th>3</th>\n",
       "      <td>20000104</td>\n",
       "      <td>False</td>\n",
       "      <td>False</td>\n",
       "      <td>False</td>\n",
       "      <td>False</td>\n",
       "      <td>False</td>\n",
       "      <td>False</td>\n",
       "      <td>False</td>\n",
       "      <td>False</td>\n",
       "      <td>False</td>\n",
       "      <td>False</td>\n",
       "      <td>False</td>\n",
       "      <td>False</td>\n",
       "      <td>False</td>\n",
       "      <td>False</td>\n",
       "      <td>False</td>\n",
       "      <td>False</td>\n",
       "      <td>False</td>\n",
       "    </tr>\n",
       "    <tr>\n",
       "      <th>4</th>\n",
       "      <td>20000105</td>\n",
       "      <td>False</td>\n",
       "      <td>False</td>\n",
       "      <td>False</td>\n",
       "      <td>False</td>\n",
       "      <td>False</td>\n",
       "      <td>False</td>\n",
       "      <td>False</td>\n",
       "      <td>False</td>\n",
       "      <td>False</td>\n",
       "      <td>False</td>\n",
       "      <td>False</td>\n",
       "      <td>False</td>\n",
       "      <td>False</td>\n",
       "      <td>False</td>\n",
       "      <td>False</td>\n",
       "      <td>False</td>\n",
       "      <td>False</td>\n",
       "    </tr>\n",
       "  </tbody>\n",
       "</table>\n",
       "</div>"
      ],
      "text/plain": [
       "       DATE  BASEL_BBQ_weather  BUDAPEST_BBQ_weather  DE_BBQ_weather  \\\n",
       "0  20000101              False                 False           False   \n",
       "1  20000102              False                 False           False   \n",
       "2  20000103              False                 False           False   \n",
       "3  20000104              False                 False           False   \n",
       "4  20000105              False                 False           False   \n",
       "\n",
       "   DRESDEN_BBQ_weather  DUSSELDORF_BBQ_weather  HEATHROW_BBQ_weather  \\\n",
       "0                False                   False                 False   \n",
       "1                False                   False                 False   \n",
       "2                False                   False                 False   \n",
       "3                False                   False                 False   \n",
       "4                False                   False                 False   \n",
       "\n",
       "   KASSEL_BBQ_weather  LJUBLJANA_BBQ_weather  MAASTRICHT_BBQ_weather  \\\n",
       "0               False                  False                   False   \n",
       "1               False                  False                   False   \n",
       "2               False                  False                   False   \n",
       "3               False                  False                   False   \n",
       "4               False                  False                   False   \n",
       "\n",
       "   MALMO_BBQ_weather  MONTELIMAR_BBQ_weather  MUENCHEN_BBQ_weather  \\\n",
       "0              False                   False                 False   \n",
       "1              False                   False                 False   \n",
       "2              False                   False                 False   \n",
       "3              False                   False                 False   \n",
       "4              False                   False                 False   \n",
       "\n",
       "   OSLO_BBQ_weather  PERPIGNAN_BBQ_weather  SONNBLICK_BBQ_weather  \\\n",
       "0             False                  False                  False   \n",
       "1             False                  False                  False   \n",
       "2             False                  False                  False   \n",
       "3             False                  False                  False   \n",
       "4             False                  False                  False   \n",
       "\n",
       "   STOCKHOLM_BBQ_weather  TOURS_BBQ_weather  \n",
       "0                  False              False  \n",
       "1                  False              False  \n",
       "2                  False              False  \n",
       "3                  False              False  \n",
       "4                  False              False  "
      ]
     },
     "execution_count": 100,
     "metadata": {},
     "output_type": "execute_result"
    }
   ],
   "source": [
    "# read in associated bbq labels\n",
    "df_labels = pd.read_csv('data/weather_prediction_bbq_labels.csv')\n",
    "df_labels.head()"
   ]
  },
  {
   "cell_type": "markdown",
   "id": "9a05ce3d",
   "metadata": {},
   "source": [
    "Each row contains information regarding whether or not it was suitable for a bbq in a specific location on that day."
   ]
  },
  {
   "cell_type": "code",
   "execution_count": 101,
   "id": "f9ef7e17",
   "metadata": {},
   "outputs": [
    {
     "data": {
      "text/plain": [
       "0"
      ]
     },
     "execution_count": 101,
     "metadata": {},
     "output_type": "execute_result"
    }
   ],
   "source": [
    "#verify date columns from both dataframes are identical\n",
    "sum(df_labels['DATE'] != df['DATE'])"
   ]
  },
  {
   "cell_type": "code",
   "execution_count": 102,
   "id": "669031da",
   "metadata": {},
   "outputs": [
    {
     "name": "stdout",
     "output_type": "stream",
     "text": [
      "<class 'pandas.core.frame.DataFrame'>\n",
      "RangeIndex: 3654 entries, 0 to 3653\n",
      "Columns: 165 entries, DATE to TOURS_temp_max\n",
      "dtypes: float64(150), int64(15)\n",
      "memory usage: 4.6 MB\n"
     ]
    }
   ],
   "source": [
    "df.info()"
   ]
  },
  {
   "cell_type": "markdown",
   "id": "e0aa7728",
   "metadata": {},
   "source": [
    "The full dataset contains 165 columns and 3,654 rows. Before any modeling, I will be removing columns not related to Heathrow weather."
   ]
  },
  {
   "cell_type": "code",
   "execution_count": 103,
   "id": "d0f706f2",
   "metadata": {},
   "outputs": [
    {
     "name": "stdout",
     "output_type": "stream",
     "text": [
      "<class 'pandas.core.frame.DataFrame'>\n",
      "RangeIndex: 3654 entries, 0 to 3653\n",
      "Data columns (total 18 columns):\n",
      " #   Column                  Non-Null Count  Dtype\n",
      "---  ------                  --------------  -----\n",
      " 0   DATE                    3654 non-null   int64\n",
      " 1   BASEL_BBQ_weather       3654 non-null   bool \n",
      " 2   BUDAPEST_BBQ_weather    3654 non-null   bool \n",
      " 3   DE_BBQ_weather          3654 non-null   bool \n",
      " 4   DRESDEN_BBQ_weather     3654 non-null   bool \n",
      " 5   DUSSELDORF_BBQ_weather  3654 non-null   bool \n",
      " 6   HEATHROW_BBQ_weather    3654 non-null   bool \n",
      " 7   KASSEL_BBQ_weather      3654 non-null   bool \n",
      " 8   LJUBLJANA_BBQ_weather   3654 non-null   bool \n",
      " 9   MAASTRICHT_BBQ_weather  3654 non-null   bool \n",
      " 10  MALMO_BBQ_weather       3654 non-null   bool \n",
      " 11  MONTELIMAR_BBQ_weather  3654 non-null   bool \n",
      " 12  MUENCHEN_BBQ_weather    3654 non-null   bool \n",
      " 13  OSLO_BBQ_weather        3654 non-null   bool \n",
      " 14  PERPIGNAN_BBQ_weather   3654 non-null   bool \n",
      " 15  SONNBLICK_BBQ_weather   3654 non-null   bool \n",
      " 16  STOCKHOLM_BBQ_weather   3654 non-null   bool \n",
      " 17  TOURS_BBQ_weather       3654 non-null   bool \n",
      "dtypes: bool(17), int64(1)\n",
      "memory usage: 89.3 KB\n"
     ]
    }
   ],
   "source": [
    "df_labels.info()"
   ]
  },
  {
   "cell_type": "markdown",
   "id": "e969cad0",
   "metadata": {},
   "source": [
    "I will be looking at Heathrow bbq weather as my target variable. All values besides date are of type boolean. "
   ]
  },
  {
   "cell_type": "code",
   "execution_count": 104,
   "id": "f8c3ba60",
   "metadata": {},
   "outputs": [
    {
     "data": {
      "text/plain": [
       "['DATE',\n",
       " 'MONTH',\n",
       " 'BASEL_cloud_cover',\n",
       " 'BASEL_humidity',\n",
       " 'BASEL_pressure',\n",
       " 'BASEL_global_radiation',\n",
       " 'BASEL_precipitation',\n",
       " 'BASEL_sunshine',\n",
       " 'BASEL_temp_mean',\n",
       " 'BASEL_temp_min',\n",
       " 'BASEL_temp_max',\n",
       " 'BUDAPEST_cloud_cover',\n",
       " 'BUDAPEST_humidity',\n",
       " 'BUDAPEST_pressure',\n",
       " 'BUDAPEST_global_radiation',\n",
       " 'BUDAPEST_precipitation',\n",
       " 'BUDAPEST_sunshine',\n",
       " 'BUDAPEST_temp_mean',\n",
       " 'BUDAPEST_temp_max',\n",
       " 'DE_BILT_cloud_cover',\n",
       " 'DE_BILT_wind_speed',\n",
       " 'DE_BILT_wind_gust',\n",
       " 'DE_BILT_humidity',\n",
       " 'DE_BILT_pressure',\n",
       " 'DE_BILT_global_radiation',\n",
       " 'DE_BILT_precipitation',\n",
       " 'DE_BILT_sunshine',\n",
       " 'DE_BILT_temp_mean',\n",
       " 'DE_BILT_temp_min',\n",
       " 'DE_BILT_temp_max',\n",
       " 'DRESDEN_cloud_cover',\n",
       " 'DRESDEN_wind_speed',\n",
       " 'DRESDEN_wind_gust',\n",
       " 'DRESDEN_humidity',\n",
       " 'DRESDEN_global_radiation',\n",
       " 'DRESDEN_precipitation',\n",
       " 'DRESDEN_sunshine',\n",
       " 'DRESDEN_temp_mean',\n",
       " 'DRESDEN_temp_min',\n",
       " 'DRESDEN_temp_max',\n",
       " 'DUSSELDORF_cloud_cover',\n",
       " 'DUSSELDORF_wind_speed',\n",
       " 'DUSSELDORF_wind_gust',\n",
       " 'DUSSELDORF_humidity',\n",
       " 'DUSSELDORF_pressure',\n",
       " 'DUSSELDORF_global_radiation',\n",
       " 'DUSSELDORF_precipitation',\n",
       " 'DUSSELDORF_sunshine',\n",
       " 'DUSSELDORF_temp_mean',\n",
       " 'DUSSELDORF_temp_min',\n",
       " 'DUSSELDORF_temp_max',\n",
       " 'HEATHROW_cloud_cover',\n",
       " 'HEATHROW_humidity',\n",
       " 'HEATHROW_pressure',\n",
       " 'HEATHROW_global_radiation',\n",
       " 'HEATHROW_precipitation',\n",
       " 'HEATHROW_sunshine',\n",
       " 'HEATHROW_temp_mean',\n",
       " 'HEATHROW_temp_min',\n",
       " 'HEATHROW_temp_max',\n",
       " 'KASSEL_wind_speed',\n",
       " 'KASSEL_wind_gust',\n",
       " 'KASSEL_humidity',\n",
       " 'KASSEL_pressure',\n",
       " 'KASSEL_global_radiation',\n",
       " 'KASSEL_precipitation',\n",
       " 'KASSEL_sunshine',\n",
       " 'KASSEL_temp_mean',\n",
       " 'KASSEL_temp_min',\n",
       " 'KASSEL_temp_max',\n",
       " 'LJUBLJANA_cloud_cover',\n",
       " 'LJUBLJANA_wind_speed',\n",
       " 'LJUBLJANA_humidity',\n",
       " 'LJUBLJANA_pressure',\n",
       " 'LJUBLJANA_global_radiation',\n",
       " 'LJUBLJANA_precipitation',\n",
       " 'LJUBLJANA_sunshine',\n",
       " 'LJUBLJANA_temp_mean',\n",
       " 'LJUBLJANA_temp_min',\n",
       " 'LJUBLJANA_temp_max',\n",
       " 'MAASTRICHT_cloud_cover',\n",
       " 'MAASTRICHT_wind_speed',\n",
       " 'MAASTRICHT_wind_gust',\n",
       " 'MAASTRICHT_humidity',\n",
       " 'MAASTRICHT_pressure',\n",
       " 'MAASTRICHT_global_radiation',\n",
       " 'MAASTRICHT_precipitation',\n",
       " 'MAASTRICHT_sunshine',\n",
       " 'MAASTRICHT_temp_mean',\n",
       " 'MAASTRICHT_temp_min',\n",
       " 'MAASTRICHT_temp_max',\n",
       " 'MALMO_wind_speed',\n",
       " 'MALMO_precipitation',\n",
       " 'MALMO_temp_mean',\n",
       " 'MALMO_temp_min',\n",
       " 'MALMO_temp_max',\n",
       " 'MONTELIMAR_wind_speed',\n",
       " 'MONTELIMAR_humidity',\n",
       " 'MONTELIMAR_pressure',\n",
       " 'MONTELIMAR_global_radiation',\n",
       " 'MONTELIMAR_precipitation',\n",
       " 'MONTELIMAR_temp_mean',\n",
       " 'MONTELIMAR_temp_min',\n",
       " 'MONTELIMAR_temp_max',\n",
       " 'MUENCHEN_cloud_cover',\n",
       " 'MUENCHEN_wind_speed',\n",
       " 'MUENCHEN_wind_gust',\n",
       " 'MUENCHEN_humidity',\n",
       " 'MUENCHEN_pressure',\n",
       " 'MUENCHEN_global_radiation',\n",
       " 'MUENCHEN_precipitation',\n",
       " 'MUENCHEN_sunshine',\n",
       " 'MUENCHEN_temp_mean',\n",
       " 'MUENCHEN_temp_min',\n",
       " 'MUENCHEN_temp_max',\n",
       " 'OSLO_cloud_cover',\n",
       " 'OSLO_wind_speed',\n",
       " 'OSLO_wind_gust',\n",
       " 'OSLO_humidity',\n",
       " 'OSLO_pressure',\n",
       " 'OSLO_global_radiation',\n",
       " 'OSLO_precipitation',\n",
       " 'OSLO_sunshine',\n",
       " 'OSLO_temp_mean',\n",
       " 'OSLO_temp_min',\n",
       " 'OSLO_temp_max',\n",
       " 'PERPIGNAN_wind_speed',\n",
       " 'PERPIGNAN_humidity',\n",
       " 'PERPIGNAN_pressure',\n",
       " 'PERPIGNAN_global_radiation',\n",
       " 'PERPIGNAN_precipitation',\n",
       " 'PERPIGNAN_temp_mean',\n",
       " 'PERPIGNAN_temp_min',\n",
       " 'PERPIGNAN_temp_max',\n",
       " 'ROMA_cloud_cover',\n",
       " 'ROMA_humidity',\n",
       " 'ROMA_pressure',\n",
       " 'ROMA_global_radiation',\n",
       " 'ROMA_sunshine',\n",
       " 'ROMA_temp_mean',\n",
       " 'ROMA_temp_min',\n",
       " 'ROMA_temp_max',\n",
       " 'SONNBLICK_cloud_cover',\n",
       " 'SONNBLICK_humidity',\n",
       " 'SONNBLICK_global_radiation',\n",
       " 'SONNBLICK_precipitation',\n",
       " 'SONNBLICK_sunshine',\n",
       " 'SONNBLICK_temp_mean',\n",
       " 'SONNBLICK_temp_min',\n",
       " 'SONNBLICK_temp_max',\n",
       " 'STOCKHOLM_cloud_cover',\n",
       " 'STOCKHOLM_pressure',\n",
       " 'STOCKHOLM_precipitation',\n",
       " 'STOCKHOLM_sunshine',\n",
       " 'STOCKHOLM_temp_mean',\n",
       " 'STOCKHOLM_temp_min',\n",
       " 'STOCKHOLM_temp_max',\n",
       " 'TOURS_wind_speed',\n",
       " 'TOURS_humidity',\n",
       " 'TOURS_pressure',\n",
       " 'TOURS_global_radiation',\n",
       " 'TOURS_precipitation',\n",
       " 'TOURS_temp_mean',\n",
       " 'TOURS_temp_min',\n",
       " 'TOURS_temp_max']"
      ]
     },
     "execution_count": 104,
     "metadata": {},
     "output_type": "execute_result"
    }
   ],
   "source": [
    "# investigate all columns\n",
    "list(df.columns)"
   ]
  },
  {
   "cell_type": "markdown",
   "id": "f94f9d99",
   "metadata": {},
   "source": [
    "I am interested in the columns containing data for Heathrow. I will select only those and make a new dataframe."
   ]
  },
  {
   "cell_type": "code",
   "execution_count": 110,
   "id": "461a85a5",
   "metadata": {},
   "outputs": [
    {
     "data": {
      "text/html": [
       "<div>\n",
       "<style scoped>\n",
       "    .dataframe tbody tr th:only-of-type {\n",
       "        vertical-align: middle;\n",
       "    }\n",
       "\n",
       "    .dataframe tbody tr th {\n",
       "        vertical-align: top;\n",
       "    }\n",
       "\n",
       "    .dataframe thead th {\n",
       "        text-align: right;\n",
       "    }\n",
       "</style>\n",
       "<table border=\"1\" class=\"dataframe\">\n",
       "  <thead>\n",
       "    <tr style=\"text-align: right;\">\n",
       "      <th></th>\n",
       "      <th>DATE</th>\n",
       "      <th>MONTH</th>\n",
       "      <th>HEATHROW_cloud_cover</th>\n",
       "      <th>HEATHROW_humidity</th>\n",
       "      <th>HEATHROW_pressure</th>\n",
       "      <th>HEATHROW_global_radiation</th>\n",
       "      <th>HEATHROW_precipitation</th>\n",
       "      <th>HEATHROW_sunshine</th>\n",
       "      <th>HEATHROW_temp_mean</th>\n",
       "      <th>HEATHROW_temp_min</th>\n",
       "      <th>HEATHROW_temp_max</th>\n",
       "      <th>HEATHROW_BBQ_weather</th>\n",
       "    </tr>\n",
       "  </thead>\n",
       "  <tbody>\n",
       "    <tr>\n",
       "      <th>0</th>\n",
       "      <td>20000101</td>\n",
       "      <td>1</td>\n",
       "      <td>7</td>\n",
       "      <td>0.94</td>\n",
       "      <td>1.0245</td>\n",
       "      <td>0.18</td>\n",
       "      <td>0.00</td>\n",
       "      <td>0.4</td>\n",
       "      <td>7.0</td>\n",
       "      <td>4.9</td>\n",
       "      <td>10.8</td>\n",
       "      <td>False</td>\n",
       "    </tr>\n",
       "    <tr>\n",
       "      <th>1</th>\n",
       "      <td>20000102</td>\n",
       "      <td>1</td>\n",
       "      <td>7</td>\n",
       "      <td>0.89</td>\n",
       "      <td>1.0253</td>\n",
       "      <td>0.20</td>\n",
       "      <td>0.02</td>\n",
       "      <td>0.7</td>\n",
       "      <td>7.9</td>\n",
       "      <td>5.0</td>\n",
       "      <td>11.5</td>\n",
       "      <td>False</td>\n",
       "    </tr>\n",
       "    <tr>\n",
       "      <th>2</th>\n",
       "      <td>20000103</td>\n",
       "      <td>1</td>\n",
       "      <td>8</td>\n",
       "      <td>0.91</td>\n",
       "      <td>1.0186</td>\n",
       "      <td>0.13</td>\n",
       "      <td>0.60</td>\n",
       "      <td>0.0</td>\n",
       "      <td>9.4</td>\n",
       "      <td>7.2</td>\n",
       "      <td>9.5</td>\n",
       "      <td>False</td>\n",
       "    </tr>\n",
       "    <tr>\n",
       "      <th>3</th>\n",
       "      <td>20000104</td>\n",
       "      <td>1</td>\n",
       "      <td>5</td>\n",
       "      <td>0.89</td>\n",
       "      <td>1.0148</td>\n",
       "      <td>0.34</td>\n",
       "      <td>0.02</td>\n",
       "      <td>2.9</td>\n",
       "      <td>7.0</td>\n",
       "      <td>4.4</td>\n",
       "      <td>11.0</td>\n",
       "      <td>False</td>\n",
       "    </tr>\n",
       "    <tr>\n",
       "      <th>4</th>\n",
       "      <td>20000105</td>\n",
       "      <td>1</td>\n",
       "      <td>5</td>\n",
       "      <td>0.85</td>\n",
       "      <td>1.0142</td>\n",
       "      <td>0.25</td>\n",
       "      <td>0.08</td>\n",
       "      <td>1.3</td>\n",
       "      <td>6.4</td>\n",
       "      <td>1.9</td>\n",
       "      <td>10.8</td>\n",
       "      <td>False</td>\n",
       "    </tr>\n",
       "  </tbody>\n",
       "</table>\n",
       "</div>"
      ],
      "text/plain": [
       "       DATE  MONTH  HEATHROW_cloud_cover  HEATHROW_humidity  \\\n",
       "0  20000101      1                     7               0.94   \n",
       "1  20000102      1                     7               0.89   \n",
       "2  20000103      1                     8               0.91   \n",
       "3  20000104      1                     5               0.89   \n",
       "4  20000105      1                     5               0.85   \n",
       "\n",
       "   HEATHROW_pressure  HEATHROW_global_radiation  HEATHROW_precipitation  \\\n",
       "0             1.0245                       0.18                    0.00   \n",
       "1             1.0253                       0.20                    0.02   \n",
       "2             1.0186                       0.13                    0.60   \n",
       "3             1.0148                       0.34                    0.02   \n",
       "4             1.0142                       0.25                    0.08   \n",
       "\n",
       "   HEATHROW_sunshine  HEATHROW_temp_mean  HEATHROW_temp_min  \\\n",
       "0                0.4                 7.0                4.9   \n",
       "1                0.7                 7.9                5.0   \n",
       "2                0.0                 9.4                7.2   \n",
       "3                2.9                 7.0                4.4   \n",
       "4                1.3                 6.4                1.9   \n",
       "\n",
       "   HEATHROW_temp_max  HEATHROW_BBQ_weather  \n",
       "0               10.8                 False  \n",
       "1               11.5                 False  \n",
       "2                9.5                 False  \n",
       "3               11.0                 False  \n",
       "4               10.8                 False  "
      ]
     },
     "execution_count": 110,
     "metadata": {},
     "output_type": "execute_result"
    }
   ],
   "source": [
    "# dataframe with only info pertaining to Heathrow\n",
    "\n",
    "base_df_heathrow = df[['DATE', 'MONTH', 'HEATHROW_cloud_cover', 'HEATHROW_humidity', 'HEATHROW_pressure',\n",
    "                 'HEATHROW_global_radiation', 'HEATHROW_precipitation', 'HEATHROW_sunshine', 'HEATHROW_temp_mean',\n",
    "                 'HEATHROW_temp_min', 'HEATHROW_temp_max']]\n",
    "\n",
    "# add HEATHROW_BBQ_weather column to dataframe, joining on \"DATE\" column\n",
    "\n",
    "base_df_heathrow = base_df_heathrow.merge(df_labels[['HEATHROW_BBQ_weather', \"DATE\"]], on=\"DATE\", how=\"left\")\n",
    "base_df_heathrow.head()"
   ]
  },
  {
   "cell_type": "markdown",
   "id": "794c794f",
   "metadata": {},
   "source": [
    "Now I have a dataframe containing all relevant information."
   ]
  },
  {
   "cell_type": "code",
   "execution_count": 35,
   "id": "2b494937",
   "metadata": {},
   "outputs": [
    {
     "name": "stdout",
     "output_type": "stream",
     "text": [
      "<class 'pandas.core.frame.DataFrame'>\n",
      "RangeIndex: 3654 entries, 0 to 3653\n",
      "Data columns (total 12 columns):\n",
      " #   Column                     Non-Null Count  Dtype  \n",
      "---  ------                     --------------  -----  \n",
      " 0   DATE                       3654 non-null   int64  \n",
      " 1   MONTH                      3654 non-null   int64  \n",
      " 2   HEATHROW_cloud_cover       3654 non-null   int64  \n",
      " 3   HEATHROW_humidity          3654 non-null   float64\n",
      " 4   HEATHROW_pressure          3654 non-null   float64\n",
      " 5   HEATHROW_global_radiation  3654 non-null   float64\n",
      " 6   HEATHROW_precipitation     3654 non-null   float64\n",
      " 7   HEATHROW_sunshine          3654 non-null   float64\n",
      " 8   HEATHROW_temp_mean         3654 non-null   float64\n",
      " 9   HEATHROW_temp_min          3654 non-null   float64\n",
      " 10  HEATHROW_temp_max          3654 non-null   float64\n",
      " 11  HEATHROW_BBQ_weather       3654 non-null   bool   \n",
      "dtypes: bool(1), float64(8), int64(3)\n",
      "memory usage: 317.7 KB\n"
     ]
    }
   ],
   "source": [
    "# check datatypes\n",
    "base_df_heathrow.info()"
   ]
  },
  {
   "cell_type": "markdown",
   "id": "d6f2c3b3",
   "metadata": {},
   "source": [
    "All columns are numeric except for the target variable, which is a boolean. However, the month column should be categorical, as assigning numeric values to the months could interfere with the modeling. I will replace the numbers with the appropriate month names."
   ]
  },
  {
   "cell_type": "code",
   "execution_count": 111,
   "id": "43843089",
   "metadata": {},
   "outputs": [
    {
     "data": {
      "text/html": [
       "<div>\n",
       "<style scoped>\n",
       "    .dataframe tbody tr th:only-of-type {\n",
       "        vertical-align: middle;\n",
       "    }\n",
       "\n",
       "    .dataframe tbody tr th {\n",
       "        vertical-align: top;\n",
       "    }\n",
       "\n",
       "    .dataframe thead th {\n",
       "        text-align: right;\n",
       "    }\n",
       "</style>\n",
       "<table border=\"1\" class=\"dataframe\">\n",
       "  <thead>\n",
       "    <tr style=\"text-align: right;\">\n",
       "      <th></th>\n",
       "      <th>DATE</th>\n",
       "      <th>MONTH</th>\n",
       "      <th>HEATHROW_cloud_cover</th>\n",
       "      <th>HEATHROW_humidity</th>\n",
       "      <th>HEATHROW_pressure</th>\n",
       "      <th>HEATHROW_global_radiation</th>\n",
       "      <th>HEATHROW_precipitation</th>\n",
       "      <th>HEATHROW_sunshine</th>\n",
       "      <th>HEATHROW_temp_mean</th>\n",
       "      <th>HEATHROW_temp_min</th>\n",
       "      <th>HEATHROW_temp_max</th>\n",
       "      <th>HEATHROW_BBQ_weather</th>\n",
       "    </tr>\n",
       "  </thead>\n",
       "  <tbody>\n",
       "    <tr>\n",
       "      <th>0</th>\n",
       "      <td>20000101</td>\n",
       "      <td>January</td>\n",
       "      <td>7</td>\n",
       "      <td>0.94</td>\n",
       "      <td>1.0245</td>\n",
       "      <td>0.18</td>\n",
       "      <td>0.00</td>\n",
       "      <td>0.4</td>\n",
       "      <td>7.0</td>\n",
       "      <td>4.9</td>\n",
       "      <td>10.8</td>\n",
       "      <td>False</td>\n",
       "    </tr>\n",
       "    <tr>\n",
       "      <th>1</th>\n",
       "      <td>20000102</td>\n",
       "      <td>January</td>\n",
       "      <td>7</td>\n",
       "      <td>0.89</td>\n",
       "      <td>1.0253</td>\n",
       "      <td>0.20</td>\n",
       "      <td>0.02</td>\n",
       "      <td>0.7</td>\n",
       "      <td>7.9</td>\n",
       "      <td>5.0</td>\n",
       "      <td>11.5</td>\n",
       "      <td>False</td>\n",
       "    </tr>\n",
       "    <tr>\n",
       "      <th>2</th>\n",
       "      <td>20000103</td>\n",
       "      <td>January</td>\n",
       "      <td>8</td>\n",
       "      <td>0.91</td>\n",
       "      <td>1.0186</td>\n",
       "      <td>0.13</td>\n",
       "      <td>0.60</td>\n",
       "      <td>0.0</td>\n",
       "      <td>9.4</td>\n",
       "      <td>7.2</td>\n",
       "      <td>9.5</td>\n",
       "      <td>False</td>\n",
       "    </tr>\n",
       "    <tr>\n",
       "      <th>3</th>\n",
       "      <td>20000104</td>\n",
       "      <td>January</td>\n",
       "      <td>5</td>\n",
       "      <td>0.89</td>\n",
       "      <td>1.0148</td>\n",
       "      <td>0.34</td>\n",
       "      <td>0.02</td>\n",
       "      <td>2.9</td>\n",
       "      <td>7.0</td>\n",
       "      <td>4.4</td>\n",
       "      <td>11.0</td>\n",
       "      <td>False</td>\n",
       "    </tr>\n",
       "    <tr>\n",
       "      <th>4</th>\n",
       "      <td>20000105</td>\n",
       "      <td>January</td>\n",
       "      <td>5</td>\n",
       "      <td>0.85</td>\n",
       "      <td>1.0142</td>\n",
       "      <td>0.25</td>\n",
       "      <td>0.08</td>\n",
       "      <td>1.3</td>\n",
       "      <td>6.4</td>\n",
       "      <td>1.9</td>\n",
       "      <td>10.8</td>\n",
       "      <td>False</td>\n",
       "    </tr>\n",
       "    <tr>\n",
       "      <th>...</th>\n",
       "      <td>...</td>\n",
       "      <td>...</td>\n",
       "      <td>...</td>\n",
       "      <td>...</td>\n",
       "      <td>...</td>\n",
       "      <td>...</td>\n",
       "      <td>...</td>\n",
       "      <td>...</td>\n",
       "      <td>...</td>\n",
       "      <td>...</td>\n",
       "      <td>...</td>\n",
       "      <td>...</td>\n",
       "    </tr>\n",
       "    <tr>\n",
       "      <th>3649</th>\n",
       "      <td>20091228</td>\n",
       "      <td>December</td>\n",
       "      <td>2</td>\n",
       "      <td>0.90</td>\n",
       "      <td>1.0043</td>\n",
       "      <td>0.37</td>\n",
       "      <td>0.06</td>\n",
       "      <td>3.7</td>\n",
       "      <td>1.7</td>\n",
       "      <td>-2.2</td>\n",
       "      <td>5.0</td>\n",
       "      <td>False</td>\n",
       "    </tr>\n",
       "    <tr>\n",
       "      <th>3650</th>\n",
       "      <td>20091229</td>\n",
       "      <td>December</td>\n",
       "      <td>8</td>\n",
       "      <td>0.92</td>\n",
       "      <td>0.9949</td>\n",
       "      <td>0.12</td>\n",
       "      <td>1.28</td>\n",
       "      <td>0.0</td>\n",
       "      <td>1.9</td>\n",
       "      <td>-1.2</td>\n",
       "      <td>5.2</td>\n",
       "      <td>False</td>\n",
       "    </tr>\n",
       "    <tr>\n",
       "      <th>3651</th>\n",
       "      <td>20091230</td>\n",
       "      <td>December</td>\n",
       "      <td>8</td>\n",
       "      <td>0.97</td>\n",
       "      <td>0.9923</td>\n",
       "      <td>0.12</td>\n",
       "      <td>0.36</td>\n",
       "      <td>0.0</td>\n",
       "      <td>4.6</td>\n",
       "      <td>4.0</td>\n",
       "      <td>4.4</td>\n",
       "      <td>False</td>\n",
       "    </tr>\n",
       "    <tr>\n",
       "      <th>3652</th>\n",
       "      <td>20091231</td>\n",
       "      <td>December</td>\n",
       "      <td>7</td>\n",
       "      <td>0.83</td>\n",
       "      <td>0.9993</td>\n",
       "      <td>0.13</td>\n",
       "      <td>0.00</td>\n",
       "      <td>0.0</td>\n",
       "      <td>3.9</td>\n",
       "      <td>3.3</td>\n",
       "      <td>3.6</td>\n",
       "      <td>False</td>\n",
       "    </tr>\n",
       "    <tr>\n",
       "      <th>3653</th>\n",
       "      <td>20100101</td>\n",
       "      <td>January</td>\n",
       "      <td>2</td>\n",
       "      <td>0.77</td>\n",
       "      <td>1.0056</td>\n",
       "      <td>0.49</td>\n",
       "      <td>0.00</td>\n",
       "      <td>6.4</td>\n",
       "      <td>1.6</td>\n",
       "      <td>-0.5</td>\n",
       "      <td>5.0</td>\n",
       "      <td>False</td>\n",
       "    </tr>\n",
       "  </tbody>\n",
       "</table>\n",
       "<p>3654 rows × 12 columns</p>\n",
       "</div>"
      ],
      "text/plain": [
       "          DATE     MONTH  HEATHROW_cloud_cover  HEATHROW_humidity  \\\n",
       "0     20000101   January                     7               0.94   \n",
       "1     20000102   January                     7               0.89   \n",
       "2     20000103   January                     8               0.91   \n",
       "3     20000104   January                     5               0.89   \n",
       "4     20000105   January                     5               0.85   \n",
       "...        ...       ...                   ...                ...   \n",
       "3649  20091228  December                     2               0.90   \n",
       "3650  20091229  December                     8               0.92   \n",
       "3651  20091230  December                     8               0.97   \n",
       "3652  20091231  December                     7               0.83   \n",
       "3653  20100101   January                     2               0.77   \n",
       "\n",
       "      HEATHROW_pressure  HEATHROW_global_radiation  HEATHROW_precipitation  \\\n",
       "0                1.0245                       0.18                    0.00   \n",
       "1                1.0253                       0.20                    0.02   \n",
       "2                1.0186                       0.13                    0.60   \n",
       "3                1.0148                       0.34                    0.02   \n",
       "4                1.0142                       0.25                    0.08   \n",
       "...                 ...                        ...                     ...   \n",
       "3649             1.0043                       0.37                    0.06   \n",
       "3650             0.9949                       0.12                    1.28   \n",
       "3651             0.9923                       0.12                    0.36   \n",
       "3652             0.9993                       0.13                    0.00   \n",
       "3653             1.0056                       0.49                    0.00   \n",
       "\n",
       "      HEATHROW_sunshine  HEATHROW_temp_mean  HEATHROW_temp_min  \\\n",
       "0                   0.4                 7.0                4.9   \n",
       "1                   0.7                 7.9                5.0   \n",
       "2                   0.0                 9.4                7.2   \n",
       "3                   2.9                 7.0                4.4   \n",
       "4                   1.3                 6.4                1.9   \n",
       "...                 ...                 ...                ...   \n",
       "3649                3.7                 1.7               -2.2   \n",
       "3650                0.0                 1.9               -1.2   \n",
       "3651                0.0                 4.6                4.0   \n",
       "3652                0.0                 3.9                3.3   \n",
       "3653                6.4                 1.6               -0.5   \n",
       "\n",
       "      HEATHROW_temp_max  HEATHROW_BBQ_weather  \n",
       "0                  10.8                 False  \n",
       "1                  11.5                 False  \n",
       "2                   9.5                 False  \n",
       "3                  11.0                 False  \n",
       "4                  10.8                 False  \n",
       "...                 ...                   ...  \n",
       "3649                5.0                 False  \n",
       "3650                5.2                 False  \n",
       "3651                4.4                 False  \n",
       "3652                3.6                 False  \n",
       "3653                5.0                 False  \n",
       "\n",
       "[3654 rows x 12 columns]"
      ]
     },
     "execution_count": 111,
     "metadata": {},
     "output_type": "execute_result"
    }
   ],
   "source": [
    "# create dictinary for the months\n",
    "\n",
    "month_labels = {1: 'January', 2: 'February', 3: 'March', 4: 'April', 5: 'May', 6: 'June', 7: 'July', 8: 'August',\n",
    "                9: 'September', 10: 'October', 11: 'November', 12: 'December'}\n",
    "\n",
    "\n",
    "# replace dataframe column with month name\n",
    "base_df_heathrow['MONTH'].replace(month_labels, inplace=True)\n",
    "base_df_heathrow"
   ]
  },
  {
   "cell_type": "code",
   "execution_count": 37,
   "id": "148f627e",
   "metadata": {},
   "outputs": [
    {
     "data": {
      "text/plain": [
       "January      311\n",
       "March        310\n",
       "May          310\n",
       "July         310\n",
       "August       310\n",
       "October      310\n",
       "December     310\n",
       "April        300\n",
       "June         300\n",
       "September    300\n",
       "November     300\n",
       "February     283\n",
       "Name: MONTH, dtype: int64"
      ]
     },
     "execution_count": 37,
     "metadata": {},
     "output_type": "execute_result"
    }
   ],
   "source": [
    "# investigate \"MONTH\" column\n",
    "base_df_heathrow['MONTH'].value_counts()"
   ]
  },
  {
   "cell_type": "markdown",
   "id": "4d48b67e",
   "metadata": {},
   "source": [
    "There does not appear to be any anomalies with the month column."
   ]
  },
  {
   "cell_type": "code",
   "execution_count": 38,
   "id": "f222b069",
   "metadata": {},
   "outputs": [
    {
     "data": {
      "text/html": [
       "<div>\n",
       "<style scoped>\n",
       "    .dataframe tbody tr th:only-of-type {\n",
       "        vertical-align: middle;\n",
       "    }\n",
       "\n",
       "    .dataframe tbody tr th {\n",
       "        vertical-align: top;\n",
       "    }\n",
       "\n",
       "    .dataframe thead th {\n",
       "        text-align: right;\n",
       "    }\n",
       "</style>\n",
       "<table border=\"1\" class=\"dataframe\">\n",
       "  <thead>\n",
       "    <tr style=\"text-align: right;\">\n",
       "      <th></th>\n",
       "      <th>DATE</th>\n",
       "      <th>HEATHROW_cloud_cover</th>\n",
       "      <th>HEATHROW_humidity</th>\n",
       "      <th>HEATHROW_pressure</th>\n",
       "      <th>HEATHROW_global_radiation</th>\n",
       "      <th>HEATHROW_precipitation</th>\n",
       "      <th>HEATHROW_sunshine</th>\n",
       "      <th>HEATHROW_temp_mean</th>\n",
       "      <th>HEATHROW_temp_min</th>\n",
       "      <th>HEATHROW_temp_max</th>\n",
       "    </tr>\n",
       "  </thead>\n",
       "  <tbody>\n",
       "    <tr>\n",
       "      <th>count</th>\n",
       "      <td>3.654000e+03</td>\n",
       "      <td>3654.000000</td>\n",
       "      <td>3654.000000</td>\n",
       "      <td>3654.000000</td>\n",
       "      <td>3654.000000</td>\n",
       "      <td>3654.000000</td>\n",
       "      <td>3654.000000</td>\n",
       "      <td>3654.000000</td>\n",
       "      <td>3654.000000</td>\n",
       "      <td>3654.000000</td>\n",
       "    </tr>\n",
       "    <tr>\n",
       "      <th>mean</th>\n",
       "      <td>2.004568e+07</td>\n",
       "      <td>5.272031</td>\n",
       "      <td>0.758358</td>\n",
       "      <td>1.015192</td>\n",
       "      <td>1.196970</td>\n",
       "      <td>0.178279</td>\n",
       "      <td>4.433498</td>\n",
       "      <td>11.822386</td>\n",
       "      <td>8.002737</td>\n",
       "      <td>15.637438</td>\n",
       "    </tr>\n",
       "    <tr>\n",
       "      <th>std</th>\n",
       "      <td>2.874287e+04</td>\n",
       "      <td>2.011846</td>\n",
       "      <td>0.102410</td>\n",
       "      <td>0.010561</td>\n",
       "      <td>0.881638</td>\n",
       "      <td>0.367572</td>\n",
       "      <td>3.982646</td>\n",
       "      <td>5.610018</td>\n",
       "      <td>5.230449</td>\n",
       "      <td>6.385440</td>\n",
       "    </tr>\n",
       "    <tr>\n",
       "      <th>min</th>\n",
       "      <td>2.000010e+07</td>\n",
       "      <td>0.000000</td>\n",
       "      <td>0.420000</td>\n",
       "      <td>0.971500</td>\n",
       "      <td>0.120000</td>\n",
       "      <td>0.000000</td>\n",
       "      <td>0.000000</td>\n",
       "      <td>-2.200000</td>\n",
       "      <td>-6.800000</td>\n",
       "      <td>0.200000</td>\n",
       "    </tr>\n",
       "    <tr>\n",
       "      <th>25%</th>\n",
       "      <td>2.002070e+07</td>\n",
       "      <td>4.000000</td>\n",
       "      <td>0.690000</td>\n",
       "      <td>1.009000</td>\n",
       "      <td>0.430000</td>\n",
       "      <td>0.000000</td>\n",
       "      <td>0.600000</td>\n",
       "      <td>7.600000</td>\n",
       "      <td>4.100000</td>\n",
       "      <td>10.800000</td>\n",
       "    </tr>\n",
       "    <tr>\n",
       "      <th>50%</th>\n",
       "      <td>2.004567e+07</td>\n",
       "      <td>6.000000</td>\n",
       "      <td>0.760000</td>\n",
       "      <td>1.016000</td>\n",
       "      <td>0.960000</td>\n",
       "      <td>0.020000</td>\n",
       "      <td>3.700000</td>\n",
       "      <td>11.700000</td>\n",
       "      <td>8.250000</td>\n",
       "      <td>15.400000</td>\n",
       "    </tr>\n",
       "    <tr>\n",
       "      <th>75%</th>\n",
       "      <td>2.007070e+07</td>\n",
       "      <td>7.000000</td>\n",
       "      <td>0.840000</td>\n",
       "      <td>1.022100</td>\n",
       "      <td>1.860000</td>\n",
       "      <td>0.180000</td>\n",
       "      <td>7.200000</td>\n",
       "      <td>16.300000</td>\n",
       "      <td>12.100000</td>\n",
       "      <td>20.500000</td>\n",
       "    </tr>\n",
       "    <tr>\n",
       "      <th>max</th>\n",
       "      <td>2.010010e+07</td>\n",
       "      <td>8.000000</td>\n",
       "      <td>1.000000</td>\n",
       "      <td>1.043800</td>\n",
       "      <td>3.490000</td>\n",
       "      <td>3.660000</td>\n",
       "      <td>15.500000</td>\n",
       "      <td>29.000000</td>\n",
       "      <td>20.600000</td>\n",
       "      <td>37.900000</td>\n",
       "    </tr>\n",
       "  </tbody>\n",
       "</table>\n",
       "</div>"
      ],
      "text/plain": [
       "               DATE  HEATHROW_cloud_cover  HEATHROW_humidity  \\\n",
       "count  3.654000e+03           3654.000000        3654.000000   \n",
       "mean   2.004568e+07              5.272031           0.758358   \n",
       "std    2.874287e+04              2.011846           0.102410   \n",
       "min    2.000010e+07              0.000000           0.420000   \n",
       "25%    2.002070e+07              4.000000           0.690000   \n",
       "50%    2.004567e+07              6.000000           0.760000   \n",
       "75%    2.007070e+07              7.000000           0.840000   \n",
       "max    2.010010e+07              8.000000           1.000000   \n",
       "\n",
       "       HEATHROW_pressure  HEATHROW_global_radiation  HEATHROW_precipitation  \\\n",
       "count        3654.000000                3654.000000             3654.000000   \n",
       "mean            1.015192                   1.196970                0.178279   \n",
       "std             0.010561                   0.881638                0.367572   \n",
       "min             0.971500                   0.120000                0.000000   \n",
       "25%             1.009000                   0.430000                0.000000   \n",
       "50%             1.016000                   0.960000                0.020000   \n",
       "75%             1.022100                   1.860000                0.180000   \n",
       "max             1.043800                   3.490000                3.660000   \n",
       "\n",
       "       HEATHROW_sunshine  HEATHROW_temp_mean  HEATHROW_temp_min  \\\n",
       "count        3654.000000         3654.000000        3654.000000   \n",
       "mean            4.433498           11.822386           8.002737   \n",
       "std             3.982646            5.610018           5.230449   \n",
       "min             0.000000           -2.200000          -6.800000   \n",
       "25%             0.600000            7.600000           4.100000   \n",
       "50%             3.700000           11.700000           8.250000   \n",
       "75%             7.200000           16.300000          12.100000   \n",
       "max            15.500000           29.000000          20.600000   \n",
       "\n",
       "       HEATHROW_temp_max  \n",
       "count        3654.000000  \n",
       "mean           15.637438  \n",
       "std             6.385440  \n",
       "min             0.200000  \n",
       "25%            10.800000  \n",
       "50%            15.400000  \n",
       "75%            20.500000  \n",
       "max            37.900000  "
      ]
     },
     "execution_count": 38,
     "metadata": {},
     "output_type": "execute_result"
    }
   ],
   "source": [
    "# basic statistics\n",
    "base_df_heathrow.describe()"
   ]
  },
  {
   "cell_type": "markdown",
   "id": "81043232",
   "metadata": {},
   "source": []
  },
  {
   "cell_type": "code",
   "execution_count": 39,
   "id": "4e13687b",
   "metadata": {},
   "outputs": [
    {
     "data": {
      "text/plain": [
       "DATE                         0\n",
       "MONTH                        0\n",
       "HEATHROW_cloud_cover         0\n",
       "HEATHROW_humidity            0\n",
       "HEATHROW_pressure            0\n",
       "HEATHROW_global_radiation    0\n",
       "HEATHROW_precipitation       0\n",
       "HEATHROW_sunshine            0\n",
       "HEATHROW_temp_mean           0\n",
       "HEATHROW_temp_min            0\n",
       "HEATHROW_temp_max            0\n",
       "HEATHROW_BBQ_weather         0\n",
       "dtype: int64"
      ]
     },
     "execution_count": 39,
     "metadata": {},
     "output_type": "execute_result"
    }
   ],
   "source": [
    "#check for null values\n",
    "base_df_heathrow.isnull().sum()"
   ]
  },
  {
   "cell_type": "markdown",
   "id": "5bdc6f03",
   "metadata": {},
   "source": [
    "There are no null values to deal with."
   ]
  },
  {
   "cell_type": "code",
   "execution_count": 40,
   "id": "3494b87d",
   "metadata": {},
   "outputs": [
    {
     "data": {
      "text/plain": [
       "False    2785\n",
       "True      869\n",
       "Name: HEATHROW_BBQ_weather, dtype: int64"
      ]
     },
     "execution_count": 40,
     "metadata": {},
     "output_type": "execute_result"
    }
   ],
   "source": [
    "# check porportions of target variable\n",
    "base_df_heathrow['HEATHROW_BBQ_weather'].value_counts()"
   ]
  },
  {
   "cell_type": "markdown",
   "id": "5ee0249f",
   "metadata": {},
   "source": [
    "The weather was suitable for a bbq on about 24% of the recorded dates. This is not extremely imbalanced but, but it will be necessary to keep in mind that a 'dummy' model that always predicts False will be correct just over 75% of the time."
   ]
  },
  {
   "cell_type": "markdown",
   "id": "27c8dbb1",
   "metadata": {},
   "source": [
    "# Data Visualization"
   ]
  },
  {
   "cell_type": "code",
   "execution_count": 112,
   "id": "73bb7f22",
   "metadata": {},
   "outputs": [
    {
     "data": {
      "image/png": "[encoded data removed]",
      "text/plain": [
       "<Figure size 640x480 with 1 Axes>"
      ]
     },
     "metadata": {},
     "output_type": "display_data"
    }
   ],
   "source": [
    "# barplot to visualize true and false ratios\n",
    "base_df_heathrow['HEATHROW_BBQ_weather'].value_counts().plot.bar(title='Number of BBQ days', ylabel='Count').set_xlabel('BBQ Weather');"
   ]
  },
  {
   "cell_type": "code",
   "execution_count": 45,
   "id": "ebdd513d",
   "metadata": {},
   "outputs": [
    {
     "data": {
      "image/png": "[encoded data removed]",
      "text/plain": [
       "<Figure size 640x480 with 1 Axes>"
      ]
     },
     "metadata": {},
     "output_type": "display_data"
    }
   ],
   "source": [
    "# plot number of good bbq weather days by month\n",
    "\n",
    "bbq = base_df_heathrow.loc[base_df_heathrow['HEATHROW_BBQ_weather'] == True]\n",
    "bbq['MONTH'].value_counts().plot.bar(title='Count of bbq days per month', ylabel='Count').set_xlabel('Month');"
   ]
  },
  {
   "cell_type": "markdown",
   "id": "331f0d46",
   "metadata": {},
   "source": [
    "Not surprisingly, the summer months had by far the highest number of good bbq days. November and March had very few."
   ]
  },
  {
   "cell_type": "code",
   "execution_count": 113,
   "id": "e1a3bda9",
   "metadata": {},
   "outputs": [
    {
     "data": {
      "image/png": "[encoded data removed]",
      "text/plain": [
       "<Figure size 1200x1800 with 8 Axes>"
      ]
     },
     "metadata": {},
     "output_type": "display_data"
    }
   ],
   "source": [
    "# visualize column data per outcome\n",
    "\n",
    "fig, axes = plt.subplots(nrows=4, ncols=2, figsize=(12,18))\n",
    "for i, col in enumerate(['HEATHROW_cloud_cover', 'HEATHROW_humidity', 'HEATHROW_precipitation', 'HEATHROW_sunshine', 'HEATHROW_temp_mean', 'HEATHROW_pressure', 'HEATHROW_temp_min', 'HEATHROW_temp_max']):\n",
    "    base_df_heathrow.groupby('HEATHROW_BBQ_weather').mean().plot.bar(y=col, ylabel=col, title= 'Mean ' + col + ' per outcome', ax=axes[i%4][i//4]);\n",
    "plt.tight_layout();"
   ]
  },
  {
   "cell_type": "markdown",
   "id": "34ff2b3e",
   "metadata": {},
   "source": [
    "Just from observing the plots, it is obvious precipitation plays a huge role. Temperature and sunshine also look to play a significant role, while cloud cover and pressure do not seem to affect the outcome much. "
   ]
  },
  {
   "cell_type": "markdown",
   "id": "b9c72a37",
   "metadata": {},
   "source": [
    "# Modeling"
   ]
  },
  {
   "cell_type": "markdown",
   "id": "d3577a17",
   "metadata": {},
   "source": [
    "I am now going to investigate different types of models and evaluate their performance. First, I need to make dummy columns for each month, define X and y, and subsequently split the data into training and test sets before proceding. "
   ]
  },
  {
   "cell_type": "code",
   "execution_count": 47,
   "id": "f08dd44b",
   "metadata": {},
   "outputs": [
    {
     "data": {
      "text/html": [
       "<div>\n",
       "<style scoped>\n",
       "    .dataframe tbody tr th:only-of-type {\n",
       "        vertical-align: middle;\n",
       "    }\n",
       "\n",
       "    .dataframe tbody tr th {\n",
       "        vertical-align: top;\n",
       "    }\n",
       "\n",
       "    .dataframe thead th {\n",
       "        text-align: right;\n",
       "    }\n",
       "</style>\n",
       "<table border=\"1\" class=\"dataframe\">\n",
       "  <thead>\n",
       "    <tr style=\"text-align: right;\">\n",
       "      <th></th>\n",
       "      <th>DATE</th>\n",
       "      <th>HEATHROW_cloud_cover</th>\n",
       "      <th>HEATHROW_humidity</th>\n",
       "      <th>HEATHROW_pressure</th>\n",
       "      <th>HEATHROW_global_radiation</th>\n",
       "      <th>HEATHROW_precipitation</th>\n",
       "      <th>HEATHROW_sunshine</th>\n",
       "      <th>HEATHROW_temp_mean</th>\n",
       "      <th>HEATHROW_temp_min</th>\n",
       "      <th>HEATHROW_temp_max</th>\n",
       "      <th>...</th>\n",
       "      <th>MONTH_December</th>\n",
       "      <th>MONTH_February</th>\n",
       "      <th>MONTH_January</th>\n",
       "      <th>MONTH_July</th>\n",
       "      <th>MONTH_June</th>\n",
       "      <th>MONTH_March</th>\n",
       "      <th>MONTH_May</th>\n",
       "      <th>MONTH_November</th>\n",
       "      <th>MONTH_October</th>\n",
       "      <th>MONTH_September</th>\n",
       "    </tr>\n",
       "  </thead>\n",
       "  <tbody>\n",
       "    <tr>\n",
       "      <th>0</th>\n",
       "      <td>20000101</td>\n",
       "      <td>7</td>\n",
       "      <td>0.94</td>\n",
       "      <td>1.0245</td>\n",
       "      <td>0.18</td>\n",
       "      <td>0.00</td>\n",
       "      <td>0.4</td>\n",
       "      <td>7.0</td>\n",
       "      <td>4.9</td>\n",
       "      <td>10.8</td>\n",
       "      <td>...</td>\n",
       "      <td>0</td>\n",
       "      <td>0</td>\n",
       "      <td>1</td>\n",
       "      <td>0</td>\n",
       "      <td>0</td>\n",
       "      <td>0</td>\n",
       "      <td>0</td>\n",
       "      <td>0</td>\n",
       "      <td>0</td>\n",
       "      <td>0</td>\n",
       "    </tr>\n",
       "    <tr>\n",
       "      <th>1</th>\n",
       "      <td>20000102</td>\n",
       "      <td>7</td>\n",
       "      <td>0.89</td>\n",
       "      <td>1.0253</td>\n",
       "      <td>0.20</td>\n",
       "      <td>0.02</td>\n",
       "      <td>0.7</td>\n",
       "      <td>7.9</td>\n",
       "      <td>5.0</td>\n",
       "      <td>11.5</td>\n",
       "      <td>...</td>\n",
       "      <td>0</td>\n",
       "      <td>0</td>\n",
       "      <td>1</td>\n",
       "      <td>0</td>\n",
       "      <td>0</td>\n",
       "      <td>0</td>\n",
       "      <td>0</td>\n",
       "      <td>0</td>\n",
       "      <td>0</td>\n",
       "      <td>0</td>\n",
       "    </tr>\n",
       "    <tr>\n",
       "      <th>2</th>\n",
       "      <td>20000103</td>\n",
       "      <td>8</td>\n",
       "      <td>0.91</td>\n",
       "      <td>1.0186</td>\n",
       "      <td>0.13</td>\n",
       "      <td>0.60</td>\n",
       "      <td>0.0</td>\n",
       "      <td>9.4</td>\n",
       "      <td>7.2</td>\n",
       "      <td>9.5</td>\n",
       "      <td>...</td>\n",
       "      <td>0</td>\n",
       "      <td>0</td>\n",
       "      <td>1</td>\n",
       "      <td>0</td>\n",
       "      <td>0</td>\n",
       "      <td>0</td>\n",
       "      <td>0</td>\n",
       "      <td>0</td>\n",
       "      <td>0</td>\n",
       "      <td>0</td>\n",
       "    </tr>\n",
       "    <tr>\n",
       "      <th>3</th>\n",
       "      <td>20000104</td>\n",
       "      <td>5</td>\n",
       "      <td>0.89</td>\n",
       "      <td>1.0148</td>\n",
       "      <td>0.34</td>\n",
       "      <td>0.02</td>\n",
       "      <td>2.9</td>\n",
       "      <td>7.0</td>\n",
       "      <td>4.4</td>\n",
       "      <td>11.0</td>\n",
       "      <td>...</td>\n",
       "      <td>0</td>\n",
       "      <td>0</td>\n",
       "      <td>1</td>\n",
       "      <td>0</td>\n",
       "      <td>0</td>\n",
       "      <td>0</td>\n",
       "      <td>0</td>\n",
       "      <td>0</td>\n",
       "      <td>0</td>\n",
       "      <td>0</td>\n",
       "    </tr>\n",
       "    <tr>\n",
       "      <th>4</th>\n",
       "      <td>20000105</td>\n",
       "      <td>5</td>\n",
       "      <td>0.85</td>\n",
       "      <td>1.0142</td>\n",
       "      <td>0.25</td>\n",
       "      <td>0.08</td>\n",
       "      <td>1.3</td>\n",
       "      <td>6.4</td>\n",
       "      <td>1.9</td>\n",
       "      <td>10.8</td>\n",
       "      <td>...</td>\n",
       "      <td>0</td>\n",
       "      <td>0</td>\n",
       "      <td>1</td>\n",
       "      <td>0</td>\n",
       "      <td>0</td>\n",
       "      <td>0</td>\n",
       "      <td>0</td>\n",
       "      <td>0</td>\n",
       "      <td>0</td>\n",
       "      <td>0</td>\n",
       "    </tr>\n",
       "  </tbody>\n",
       "</table>\n",
       "<p>5 rows × 23 columns</p>\n",
       "</div>"
      ],
      "text/plain": [
       "       DATE  HEATHROW_cloud_cover  HEATHROW_humidity  HEATHROW_pressure  \\\n",
       "0  20000101                     7               0.94             1.0245   \n",
       "1  20000102                     7               0.89             1.0253   \n",
       "2  20000103                     8               0.91             1.0186   \n",
       "3  20000104                     5               0.89             1.0148   \n",
       "4  20000105                     5               0.85             1.0142   \n",
       "\n",
       "   HEATHROW_global_radiation  HEATHROW_precipitation  HEATHROW_sunshine  \\\n",
       "0                       0.18                    0.00                0.4   \n",
       "1                       0.20                    0.02                0.7   \n",
       "2                       0.13                    0.60                0.0   \n",
       "3                       0.34                    0.02                2.9   \n",
       "4                       0.25                    0.08                1.3   \n",
       "\n",
       "   HEATHROW_temp_mean  HEATHROW_temp_min  HEATHROW_temp_max  ...  \\\n",
       "0                 7.0                4.9               10.8  ...   \n",
       "1                 7.9                5.0               11.5  ...   \n",
       "2                 9.4                7.2                9.5  ...   \n",
       "3                 7.0                4.4               11.0  ...   \n",
       "4                 6.4                1.9               10.8  ...   \n",
       "\n",
       "   MONTH_December  MONTH_February  MONTH_January  MONTH_July  MONTH_June  \\\n",
       "0               0               0              1           0           0   \n",
       "1               0               0              1           0           0   \n",
       "2               0               0              1           0           0   \n",
       "3               0               0              1           0           0   \n",
       "4               0               0              1           0           0   \n",
       "\n",
       "   MONTH_March  MONTH_May  MONTH_November  MONTH_October  MONTH_September  \n",
       "0            0          0               0              0                0  \n",
       "1            0          0               0              0                0  \n",
       "2            0          0               0              0                0  \n",
       "3            0          0               0              0                0  \n",
       "4            0          0               0              0                0  \n",
       "\n",
       "[5 rows x 23 columns]"
      ]
     },
     "execution_count": 47,
     "metadata": {},
     "output_type": "execute_result"
    }
   ],
   "source": [
    "# get dummy columns for month\n",
    "df_heathrow = pd.get_dummies(base_df_heathrow)\n",
    "df_heathrow.head()"
   ]
  },
  {
   "cell_type": "code",
   "execution_count": 48,
   "id": "5dd2345a",
   "metadata": {},
   "outputs": [],
   "source": [
    "# define X and y\n",
    "X = df_heathrow.drop(['DATE', 'HEATHROW_BBQ_weather'],axis=1)\n",
    "y = df_heathrow['HEATHROW_BBQ_weather']"
   ]
  },
  {
   "cell_type": "markdown",
   "id": "6b927472",
   "metadata": {},
   "source": [
    "#### Train-test split"
   ]
  },
  {
   "cell_type": "code",
   "execution_count": 50,
   "id": "48afb361",
   "metadata": {},
   "outputs": [],
   "source": [
    "# split data into train and test sets. \n",
    "X_train, X_test, y_train, y_test = train_test_split(X, y, random_state=42, test_size=0.2)"
   ]
  },
  {
   "cell_type": "markdown",
   "id": "d8559218",
   "metadata": {},
   "source": [
    "The data is now ready for classification modeling."
   ]
  },
  {
   "cell_type": "markdown",
   "id": "b7658b9f",
   "metadata": {},
   "source": [
    "### Basic logistic regression model"
   ]
  },
  {
   "cell_type": "code",
   "execution_count": 51,
   "id": "8a2e5b2d",
   "metadata": {},
   "outputs": [
    {
     "data": {
      "text/plain": [
       "LogisticRegression(C=1, fit_intercept=False, solver='liblinear')"
      ]
     },
     "execution_count": 51,
     "metadata": {},
     "output_type": "execute_result"
    }
   ],
   "source": [
    "# instantiate model \n",
    "\n",
    "logreg = LogisticRegression(fit_intercept=False, C=1, solver='liblinear')\n",
    "\n",
    "# Fit to training data\n",
    "log_model = logreg.fit(X_train, y_train)\n",
    "log_model"
   ]
  },
  {
   "cell_type": "markdown",
   "id": "90099f3b",
   "metadata": {},
   "source": [
    "#### Model evaluation"
   ]
  },
  {
   "cell_type": "code",
   "execution_count": 114,
   "id": "f51c7637",
   "metadata": {},
   "outputs": [
    {
     "name": "stdout",
     "output_type": "stream",
     "text": [
      "              precision    recall  f1-score   support\n",
      "\n",
      "       False       0.94      0.97      0.96       548\n",
      "        True       0.90      0.83      0.86       183\n",
      "\n",
      "    accuracy                           0.93       731\n",
      "   macro avg       0.92      0.90      0.91       731\n",
      "weighted avg       0.93      0.93      0.93       731\n",
      "\n",
      "F1 score:  0.8628571428571429\n"
     ]
    }
   ],
   "source": [
    "# get predicted y values and evaluate\n",
    "\n",
    "log_model_y_pred = log_model.predict(X_test)\n",
    "\n",
    "print(classification_report(y_test, log_model_y_pred))\n",
    "print(\"F1 score: \", f1_score(y_test, log_model_y_pred))"
   ]
  },
  {
   "cell_type": "markdown",
   "id": "3089322e",
   "metadata": {},
   "source": [
    "The basic logistic regression model has an F1 score of 0.86 and precision of 0.9. These are overall good scores, but can certainly be improved upon. "
   ]
  },
  {
   "cell_type": "code",
   "execution_count": 115,
   "id": "d726876d",
   "metadata": {},
   "outputs": [
    {
     "name": "stdout",
     "output_type": "stream",
     "text": [
      "Train AUC: 0.9785439943906549\n",
      "Test AUC: 0.9835566989749113\n"
     ]
    }
   ],
   "source": [
    "# investigate AUC for train and test data\n",
    "log_model_y_train_score = logreg.decision_function(X_train)\n",
    "log_model_y_test_score = logreg.decision_function(X_test)\n",
    "log_model_y_pred = log_model.predict(X_test)\n",
    "log_model_train_fpr, log_model_train_tpr, log_model_train_thresholds = roc_curve(y_train, log_model_y_train_score)\n",
    "log_model_test_fpr, log_model_test_tpr, log_model_test_thresholds = roc_curve(y_test, log_model_y_test_score)\n",
    "\n",
    "print('Train AUC: {}'.format(auc(log_model_train_fpr, log_model_train_tpr)))\n",
    "print('Test AUC: {}'.format(auc(log_model_test_fpr, log_model_test_tpr)))\n",
    "\n"
   ]
  },
  {
   "cell_type": "markdown",
   "id": "ae6314ae",
   "metadata": {},
   "source": [
    "The AUC scores are very high. However, as the dataset is somewhat imbalanced, AUC may not be the best metric."
   ]
  },
  {
   "cell_type": "code",
   "execution_count": 119,
   "id": "392e7078",
   "metadata": {},
   "outputs": [
    {
     "data": {
      "image/png": "[encoded data removed]",
      "text/plain": [
       "<Figure size 500x400 with 1 Axes>"
      ]
     },
     "metadata": {},
     "output_type": "display_data"
    }
   ],
   "source": [
    "\n",
    "#plot roc auc \n",
    "plt.figure(figsize=(5, 4))\n",
    "lw = 2\n",
    "\n",
    "plt.plot(log_model_train_fpr, log_model_train_tpr, color='blue',\n",
    "         lw=lw, label='Train ROC curve')\n",
    "plt.plot(log_model_test_fpr, log_model_test_tpr, color='darkorange',\n",
    "         lw=lw, label='Test ROC curve')\n",
    "\n",
    "\n",
    "plt.plot([0, 1], [0, 1], color='navy', lw=lw, linestyle='--')\n",
    "plt.xlim([0.0, 1.0])\n",
    "plt.ylim([0.0, 1.05])\n",
    "plt.yticks([i/10.0 for i in range(11)])\n",
    "plt.xticks([i/10.0 for i in range(11)])\n",
    "plt.xlabel('False Positive Rate')\n",
    "plt.ylabel('True Positive Rate')\n",
    "plt.title('ROC Curve')\n",
    "plt.legend(loc='lower right')\n",
    "plt.show()"
   ]
  },
  {
   "cell_type": "markdown",
   "id": "cfe0e5dc",
   "metadata": {},
   "source": [
    "There does not appear to be much  difference in the training and test data."
   ]
  },
  {
   "cell_type": "code",
   "execution_count": 127,
   "id": "6fa87fc8",
   "metadata": {},
   "outputs": [
    {
     "name": "stdout",
     "output_type": "stream",
     "text": [
      "C value: 1 . F1 score:  0.8628571428571429\n",
      "C value: 5 . F1 score:  0.8926553672316384\n",
      "C value: 10 . F1 score:  0.9070422535211268\n",
      "C value: 50 . F1 score:  0.9411764705882353\n",
      "C value: 100 . F1 score:  0.9526462395543176\n",
      "\n",
      "Best C value:  100 . Best f1 score  0.9526462395543176\n"
     ]
    }
   ],
   "source": [
    "c_vals = [1, 5, 10, 50, 100]\n",
    "best_C = None \n",
    "best_score = 0.0\n",
    "\n",
    "for n in c_vals:\n",
    "    \n",
    "    logreg = LogisticRegression(fit_intercept=False, C=n, solver='liblinear')\n",
    "    lr_model = logreg.fit(X_train, y_train)\n",
    "    \n",
    "    y_pred = lr_model.predict(X_test)\n",
    "    f1 =  f1_score(y_test, y_pred)\n",
    "    print(\"C value:\", n, \". F1 score: \", f1)\n",
    "    if f1 > best_score:\n",
    "        best_C = n\n",
    "        best_score = f1\n",
    "    \n",
    "\n",
    "print(\"\\n\" \"Best C value: \", best_C, \". Best f1 score \", best_score)"
   ]
  },
  {
   "cell_type": "markdown",
   "id": "06eef316",
   "metadata": {},
   "source": [
    "Increasing C (less regularization and more value to training data) seems to have increase performance. I will now investigate other types of models. If all other models perform pooror than the logistic regression, I will return to it and experiment with altering the penalty type or solver."
   ]
  },
  {
   "cell_type": "markdown",
   "id": "6f0dc33e",
   "metadata": {},
   "source": [
    "### K-Nearest Neighbors"
   ]
  },
  {
   "cell_type": "markdown",
   "id": "ae1ba958",
   "metadata": {},
   "source": [
    "Next I will look at a K-Nearest Neighbors (KNN) model. The KNN algorithm examines the labels of a chosen number of known data points surrounding a target data point, in order to make a prediction about the class that the target data point falls into. Because it is based on distance, it is important to standardize the data. "
   ]
  },
  {
   "cell_type": "code",
   "execution_count": 57,
   "id": "398f3645",
   "metadata": {},
   "outputs": [
    {
     "data": {
      "text/html": [
       "<div>\n",
       "<style scoped>\n",
       "    .dataframe tbody tr th:only-of-type {\n",
       "        vertical-align: middle;\n",
       "    }\n",
       "\n",
       "    .dataframe tbody tr th {\n",
       "        vertical-align: top;\n",
       "    }\n",
       "\n",
       "    .dataframe thead th {\n",
       "        text-align: right;\n",
       "    }\n",
       "</style>\n",
       "<table border=\"1\" class=\"dataframe\">\n",
       "  <thead>\n",
       "    <tr style=\"text-align: right;\">\n",
       "      <th></th>\n",
       "      <th>HEATHROW_cloud_cover</th>\n",
       "      <th>HEATHROW_humidity</th>\n",
       "      <th>HEATHROW_pressure</th>\n",
       "      <th>HEATHROW_global_radiation</th>\n",
       "      <th>HEATHROW_precipitation</th>\n",
       "      <th>HEATHROW_sunshine</th>\n",
       "      <th>HEATHROW_temp_mean</th>\n",
       "      <th>HEATHROW_temp_min</th>\n",
       "      <th>HEATHROW_temp_max</th>\n",
       "      <th>MONTH_April</th>\n",
       "      <th>...</th>\n",
       "      <th>MONTH_December</th>\n",
       "      <th>MONTH_February</th>\n",
       "      <th>MONTH_January</th>\n",
       "      <th>MONTH_July</th>\n",
       "      <th>MONTH_June</th>\n",
       "      <th>MONTH_March</th>\n",
       "      <th>MONTH_May</th>\n",
       "      <th>MONTH_November</th>\n",
       "      <th>MONTH_October</th>\n",
       "      <th>MONTH_September</th>\n",
       "    </tr>\n",
       "  </thead>\n",
       "  <tbody>\n",
       "    <tr>\n",
       "      <th>0</th>\n",
       "      <td>0.870739</td>\n",
       "      <td>0.798819</td>\n",
       "      <td>-0.752802</td>\n",
       "      <td>-0.425281</td>\n",
       "      <td>-0.366392</td>\n",
       "      <td>-1.014606</td>\n",
       "      <td>0.463634</td>\n",
       "      <td>0.845271</td>\n",
       "      <td>0.119255</td>\n",
       "      <td>-0.297726</td>\n",
       "      <td>...</td>\n",
       "      <td>-0.30314</td>\n",
       "      <td>-0.28177</td>\n",
       "      <td>-0.315096</td>\n",
       "      <td>-0.298406</td>\n",
       "      <td>-0.301117</td>\n",
       "      <td>-0.301793</td>\n",
       "      <td>-0.307159</td>\n",
       "      <td>-0.296362</td>\n",
       "      <td>-0.304484</td>\n",
       "      <td>-0.306492</td>\n",
       "    </tr>\n",
       "    <tr>\n",
       "      <th>1</th>\n",
       "      <td>-0.120564</td>\n",
       "      <td>-0.171650</td>\n",
       "      <td>-2.758235</td>\n",
       "      <td>-0.504851</td>\n",
       "      <td>-0.204199</td>\n",
       "      <td>-0.712971</td>\n",
       "      <td>-0.319709</td>\n",
       "      <td>-0.530019</td>\n",
       "      <td>-0.239577</td>\n",
       "      <td>-0.297726</td>\n",
       "      <td>...</td>\n",
       "      <td>-0.30314</td>\n",
       "      <td>-0.28177</td>\n",
       "      <td>-0.315096</td>\n",
       "      <td>-0.298406</td>\n",
       "      <td>-0.301117</td>\n",
       "      <td>3.313534</td>\n",
       "      <td>-0.307159</td>\n",
       "      <td>-0.296362</td>\n",
       "      <td>-0.304484</td>\n",
       "      <td>-0.306492</td>\n",
       "    </tr>\n",
       "    <tr>\n",
       "      <th>2</th>\n",
       "      <td>-1.607518</td>\n",
       "      <td>-1.918495</td>\n",
       "      <td>0.019243</td>\n",
       "      <td>1.291168</td>\n",
       "      <td>-0.474521</td>\n",
       "      <td>1.850919</td>\n",
       "      <td>-0.853807</td>\n",
       "      <td>-1.370474</td>\n",
       "      <td>-0.379990</td>\n",
       "      <td>3.358796</td>\n",
       "      <td>...</td>\n",
       "      <td>-0.30314</td>\n",
       "      <td>-0.28177</td>\n",
       "      <td>-0.315096</td>\n",
       "      <td>-0.298406</td>\n",
       "      <td>-0.301117</td>\n",
       "      <td>-0.301793</td>\n",
       "      <td>-0.307159</td>\n",
       "      <td>-0.296362</td>\n",
       "      <td>-0.304484</td>\n",
       "      <td>-0.306492</td>\n",
       "    </tr>\n",
       "    <tr>\n",
       "      <th>3</th>\n",
       "      <td>0.870739</td>\n",
       "      <td>0.022444</td>\n",
       "      <td>-0.263213</td>\n",
       "      <td>-0.766297</td>\n",
       "      <td>-0.474521</td>\n",
       "      <td>-0.134839</td>\n",
       "      <td>-0.123874</td>\n",
       "      <td>0.176727</td>\n",
       "      <td>-0.801227</td>\n",
       "      <td>-0.297726</td>\n",
       "      <td>...</td>\n",
       "      <td>-0.30314</td>\n",
       "      <td>-0.28177</td>\n",
       "      <td>-0.315096</td>\n",
       "      <td>-0.298406</td>\n",
       "      <td>-0.301117</td>\n",
       "      <td>-0.301793</td>\n",
       "      <td>-0.307159</td>\n",
       "      <td>3.374254</td>\n",
       "      <td>-0.304484</td>\n",
       "      <td>-0.306492</td>\n",
       "    </tr>\n",
       "    <tr>\n",
       "      <th>4</th>\n",
       "      <td>0.375088</td>\n",
       "      <td>1.284054</td>\n",
       "      <td>1.214970</td>\n",
       "      <td>-1.027743</td>\n",
       "      <td>-0.474521</td>\n",
       "      <td>-1.014606</td>\n",
       "      <td>-0.925020</td>\n",
       "      <td>-1.294069</td>\n",
       "      <td>-0.582808</td>\n",
       "      <td>-0.297726</td>\n",
       "      <td>...</td>\n",
       "      <td>-0.30314</td>\n",
       "      <td>-0.28177</td>\n",
       "      <td>-0.315096</td>\n",
       "      <td>-0.298406</td>\n",
       "      <td>-0.301117</td>\n",
       "      <td>-0.301793</td>\n",
       "      <td>-0.307159</td>\n",
       "      <td>3.374254</td>\n",
       "      <td>-0.304484</td>\n",
       "      <td>-0.306492</td>\n",
       "    </tr>\n",
       "  </tbody>\n",
       "</table>\n",
       "<p>5 rows × 21 columns</p>\n",
       "</div>"
      ],
      "text/plain": [
       "   HEATHROW_cloud_cover  HEATHROW_humidity  HEATHROW_pressure  \\\n",
       "0              0.870739           0.798819          -0.752802   \n",
       "1             -0.120564          -0.171650          -2.758235   \n",
       "2             -1.607518          -1.918495           0.019243   \n",
       "3              0.870739           0.022444          -0.263213   \n",
       "4              0.375088           1.284054           1.214970   \n",
       "\n",
       "   HEATHROW_global_radiation  HEATHROW_precipitation  HEATHROW_sunshine  \\\n",
       "0                  -0.425281               -0.366392          -1.014606   \n",
       "1                  -0.504851               -0.204199          -0.712971   \n",
       "2                   1.291168               -0.474521           1.850919   \n",
       "3                  -0.766297               -0.474521          -0.134839   \n",
       "4                  -1.027743               -0.474521          -1.014606   \n",
       "\n",
       "   HEATHROW_temp_mean  HEATHROW_temp_min  HEATHROW_temp_max  MONTH_April  ...  \\\n",
       "0            0.463634           0.845271           0.119255    -0.297726  ...   \n",
       "1           -0.319709          -0.530019          -0.239577    -0.297726  ...   \n",
       "2           -0.853807          -1.370474          -0.379990     3.358796  ...   \n",
       "3           -0.123874           0.176727          -0.801227    -0.297726  ...   \n",
       "4           -0.925020          -1.294069          -0.582808    -0.297726  ...   \n",
       "\n",
       "   MONTH_December  MONTH_February  MONTH_January  MONTH_July  MONTH_June  \\\n",
       "0        -0.30314        -0.28177      -0.315096   -0.298406   -0.301117   \n",
       "1        -0.30314        -0.28177      -0.315096   -0.298406   -0.301117   \n",
       "2        -0.30314        -0.28177      -0.315096   -0.298406   -0.301117   \n",
       "3        -0.30314        -0.28177      -0.315096   -0.298406   -0.301117   \n",
       "4        -0.30314        -0.28177      -0.315096   -0.298406   -0.301117   \n",
       "\n",
       "   MONTH_March  MONTH_May  MONTH_November  MONTH_October  MONTH_September  \n",
       "0    -0.301793  -0.307159       -0.296362      -0.304484        -0.306492  \n",
       "1     3.313534  -0.307159       -0.296362      -0.304484        -0.306492  \n",
       "2    -0.301793  -0.307159       -0.296362      -0.304484        -0.306492  \n",
       "3    -0.301793  -0.307159        3.374254      -0.304484        -0.306492  \n",
       "4    -0.301793  -0.307159        3.374254      -0.304484        -0.306492  \n",
       "\n",
       "[5 rows x 21 columns]"
      ]
     },
     "execution_count": 57,
     "metadata": {},
     "output_type": "execute_result"
    }
   ],
   "source": [
    "# data must be scaled\n",
    "scaler = StandardScaler()\n",
    "\n",
    "# Transform the training and test sets\n",
    "scaled_X_train = scaler.fit_transform(X_train)\n",
    "scaled_X_test = scaler.transform(X_test)\n",
    "\n",
    "# Convert into a DataFrame\n",
    "scaled_df_train = pd.DataFrame(scaled_X_train, columns=X.columns)\n",
    "scaled_df_train.head()"
   ]
  },
  {
   "cell_type": "code",
   "execution_count": 58,
   "id": "1a4538d3",
   "metadata": {},
   "outputs": [
    {
     "name": "stderr",
     "output_type": "stream",
     "text": [
      "C:\\Users\\lalyn\\anaconda3\\lib\\site-packages\\sklearn\\neighbors\\_classification.py:228: FutureWarning: Unlike other reduction functions (e.g. `skew`, `kurtosis`), the default behavior of `mode` typically preserves the axis it acts along. In SciPy 1.11.0, this behavior will change: the default value of `keepdims` will become False, the `axis` over which the statistic is taken will be eliminated, and the value None will no longer be accepted. Set `keepdims` to True or False to avoid this warning.\n",
      "  mode, _ = stats.mode(_y[neigh_ind, k], axis=1)\n"
     ]
    }
   ],
   "source": [
    "# instantiate KNN model\n",
    "knn = KNeighborsClassifier()\n",
    "\n",
    "# Fit the classifier\n",
    "knn.fit(scaled_X_train, y_train)\n",
    "\n"
   ]
  },
  {
   "cell_type": "markdown",
   "id": "ca5c5948",
   "metadata": {},
   "source": [
    "#### Model evaluation"
   ]
  },
  {
   "cell_type": "code",
   "execution_count": 59,
   "id": "ead1e6b4",
   "metadata": {},
   "outputs": [
    {
     "name": "stdout",
     "output_type": "stream",
     "text": [
      "              precision    recall  f1-score   support\n",
      "\n",
      "       False       0.94      0.94      0.94       548\n",
      "        True       0.83      0.81      0.82       183\n",
      "\n",
      "    accuracy                           0.91       731\n",
      "   macro avg       0.88      0.88      0.88       731\n",
      "weighted avg       0.91      0.91      0.91       731\n",
      "\n",
      "F1 score:  0.8176795580110497\n"
     ]
    }
   ],
   "source": [
    "# Predict on the test set and evaluate\n",
    "knn_test_preds = knn.predict(scaled_X_test)\n",
    "\n",
    "print(classification_report(y_test, knn_test_preds))\n",
    "\n",
    "print(\"F1 score: \", f1_score(y_test, knn_test_preds))"
   ]
  },
  {
   "cell_type": "markdown",
   "id": "bce69333",
   "metadata": {},
   "source": [
    "The F1 score of 0.82 and precision of 0.83 are lower than the basic logistic regression model. Perhaps altering some parameters will imporove model performance."
   ]
  },
  {
   "cell_type": "code",
   "execution_count": 280,
   "id": "eefb7af0",
   "metadata": {},
   "outputs": [
    {
     "data": {
      "text/plain": [
       "0.8760869131666069"
      ]
     },
     "execution_count": 280,
     "metadata": {},
     "output_type": "execute_result"
    }
   ],
   "source": [
    "# Check the AUC of predictions\n",
    "knn_fpr, knn_tpr, knn_thresholds = roc_curve(y_test, knn_test_preds)\n",
    "knn_auc = auc(knn_fpr, knn_tpr)\n",
    "knn_auc"
   ]
  },
  {
   "cell_type": "markdown",
   "id": "4fb5f9bb",
   "metadata": {},
   "source": [
    "The AUC is also lower than the logistic regression model."
   ]
  },
  {
   "cell_type": "code",
   "execution_count": 69,
   "id": "0459b881",
   "metadata": {},
   "outputs": [
    {
     "name": "stdout",
     "output_type": "stream",
     "text": [
      "Best Value for k: 7\n",
      "F1-Score: 0.8453038674033149\n"
     ]
    }
   ],
   "source": [
    "# iterate over k values and find best model\n",
    "\n",
    "k_vals = range(1, 25, 2)\n",
    "best_k = 0\n",
    "best_score = 0.0\n",
    "for k in k_vals:\n",
    "    knn = KNeighborsClassifier(n_neighbors=k)\n",
    "    knn.fit(scaled_X_train, y_train)\n",
    "    preds = knn.predict(scaled_X_test)\n",
    "        \n",
    "    f1 = f1_score(y_test, preds)\n",
    "    \n",
    "    if f1 > best_score:\n",
    "        best_k = k\n",
    "        best_score = f1\n",
    "        \n",
    "    \n",
    "print(\"Best Value for k: {}\".format(best_k))\n",
    "print(\"F1-Score: {}\".format(best_score))\n"
   ]
  },
  {
   "cell_type": "markdown",
   "id": "43a9e2f0",
   "metadata": {},
   "source": [
    "A value of 7 for the number of neighbors produced the highest F1 score. This is still lower than any logistic regression models. Next, I will investigate another type of model, decesion trees and other algorithms based off them.  "
   ]
  },
  {
   "cell_type": "code",
   "execution_count": 128,
   "id": "62e264cc",
   "metadata": {},
   "outputs": [],
   "source": [
    "knn2 = KNeighborsClassifier(n_neighbors=7)\n",
    "\n",
    "# Fit the classifier\n",
    "knn2.fit(scaled_X_train, y_train)\n",
    "\n",
    "\n",
    "# Predict on the test set\n",
    "knn2_test_preds = knn2.predict(scaled_X_test)"
   ]
  },
  {
   "cell_type": "code",
   "execution_count": 129,
   "id": "82921c1e",
   "metadata": {},
   "outputs": [
    {
     "name": "stdout",
     "output_type": "stream",
     "text": [
      "              precision    recall  f1-score   support\n",
      "\n",
      "       False       0.95      0.95      0.95       548\n",
      "        True       0.85      0.84      0.85       183\n",
      "\n",
      "    accuracy                           0.92       731\n",
      "   macro avg       0.90      0.89      0.90       731\n",
      "weighted avg       0.92      0.92      0.92       731\n",
      "\n"
     ]
    }
   ],
   "source": [
    "print(classification_report(y_test, knn2_test_preds))"
   ]
  },
  {
   "cell_type": "markdown",
   "id": "5a822098",
   "metadata": {},
   "source": [
    "### Basic decision tree classifier"
   ]
  },
  {
   "cell_type": "markdown",
   "id": "581b4efe",
   "metadata": {},
   "source": [
    "A decision tree is a flowchart-like structure in which each internal node represents a \"test\" on an attribute (e.g. whether a coin flip comes up heads or tails), each branch represents the outcome of the test, and each leaf node represents a class label (decision taken after computing all attributes). The paths from root to leaf represent classification rules."
   ]
  },
  {
   "cell_type": "code",
   "execution_count": 71,
   "id": "c2b5a5c7",
   "metadata": {},
   "outputs": [
    {
     "data": {
      "text/plain": [
       "DecisionTreeClassifier()"
      ]
     },
     "execution_count": 71,
     "metadata": {},
     "output_type": "execute_result"
    }
   ],
   "source": [
    "# instantiate model\n",
    "dt = DecisionTreeClassifier()\n",
    "\n",
    "#fit to training data\n",
    "dt.fit(X_train, y_train)"
   ]
  },
  {
   "cell_type": "markdown",
   "id": "36f2dd79",
   "metadata": {},
   "source": [
    "#### Model evaluation"
   ]
  },
  {
   "cell_type": "code",
   "execution_count": 72,
   "id": "4f496cf2",
   "metadata": {},
   "outputs": [
    {
     "name": "stdout",
     "output_type": "stream",
     "text": [
      "              precision    recall  f1-score   support\n",
      "\n",
      "       False       1.00      1.00      1.00       548\n",
      "        True       1.00      1.00      1.00       183\n",
      "\n",
      "    accuracy                           1.00       731\n",
      "   macro avg       1.00      1.00      1.00       731\n",
      "weighted avg       1.00      1.00      1.00       731\n",
      "\n",
      "F1 score:  1.0\n"
     ]
    }
   ],
   "source": [
    "# predict y values and evaluate\n",
    "\n",
    "dt_y_pred = dt.predict(X_test)\n",
    "\n",
    "print(classification_report(y_test, dt_y_pred))\n",
    "print(\"F1 score: \", f1_score(y_test, dt_y_pred))"
   ]
  },
  {
   "cell_type": "markdown",
   "id": "d23bb780",
   "metadata": {},
   "source": [
    "This model has a perfect F1 score on the dataset. While this certainly does happen, I will still investigate further and look at more complex models. "
   ]
  },
  {
   "cell_type": "code",
   "execution_count": 73,
   "id": "d9af1acf",
   "metadata": {},
   "outputs": [
    {
     "data": {
      "text/plain": [
       "1.0"
      ]
     },
     "execution_count": 73,
     "metadata": {},
     "output_type": "execute_result"
    }
   ],
   "source": [
    "# Check the AUC \n",
    "dt_fpr, dt_tpr, thresholds = roc_curve(y_test, dt_y_pred)\n",
    "dt_auc = auc(dt_fpr, dt_tpr)\n",
    "dt_auc"
   ]
  },
  {
   "cell_type": "markdown",
   "id": "0200bf82",
   "metadata": {},
   "source": [
    "The AUC is also perfect. I am now going to visually inspect the tree."
   ]
  },
  {
   "cell_type": "code",
   "execution_count": 131,
   "id": "8179418a",
   "metadata": {},
   "outputs": [
    {
     "data": {
      "image/png": "[encoded data removed]",
      "text/plain": [
       "<Figure size 800x800 with 1 Axes>"
      ]
     },
     "metadata": {},
     "output_type": "display_data"
    }
   ],
   "source": [
    "# Plot and show decision tree\n",
    "plt.figure(figsize=(8, 8))\n",
    "tree.plot_tree(dt, \n",
    "               feature_names=X.columns,\n",
    "               class_names=np.unique(y).astype('str'),\n",
    "               filled=True, rounded=True)\n",
    "plt.show()\n"
   ]
  },
  {
   "cell_type": "markdown",
   "id": "c8df2ec9",
   "metadata": {},
   "source": [
    "Max temperature and precipitation amount appear to be the deciding factors in whether or not it will be suitable for an outdoor BBQ. From the bar charts above, this is not particularily surprising, given that the min, mean, and max temperature are all very closely related, as would precipitation and sunshine. "
   ]
  },
  {
   "cell_type": "code",
   "execution_count": 94,
   "id": "5522d4a5",
   "metadata": {},
   "outputs": [
    {
     "data": {
      "image/png": "[encoded data removed]",
      "text/plain": [
       "<Figure size 800x800 with 1 Axes>"
      ]
     },
     "metadata": {},
     "output_type": "display_data"
    }
   ],
   "source": [
    "# plot the feature importances\n",
    "\n",
    "def plot_feature_importances(model):\n",
    "    n_features = X_train.shape[1]\n",
    "    plt.figure(figsize=(8,8))\n",
    "    plt.barh(range(n_features), model.feature_importances_, align='center') \n",
    "    plt.yticks(np.arange(n_features), X_train.columns.values) \n",
    "    plt.xlabel('Feature importance')\n",
    "    plt.ylabel('Feature')\n",
    "\n",
    "plot_feature_importances(dt)"
   ]
  },
  {
   "cell_type": "markdown",
   "id": "31a7f7de",
   "metadata": {},
   "source": [
    "Again it is clear max temperature and precipitation are the primary factors. "
   ]
  },
  {
   "cell_type": "markdown",
   "id": "d48c410f",
   "metadata": {},
   "source": [
    "### Random forest classifier"
   ]
  },
  {
   "cell_type": "markdown",
   "id": "3159759c",
   "metadata": {},
   "source": [
    "I am now going to look at a random forest model. A random forest algorithm is essentially an ensemble of decision trees. randomly select a subset of features to use as predictors for each node when training a decision tree, instead of using all predictors available at each node. "
   ]
  },
  {
   "cell_type": "code",
   "execution_count": 86,
   "id": "12e7542b",
   "metadata": {},
   "outputs": [
    {
     "data": {
      "text/plain": [
       "RandomForestClassifier()"
      ]
     },
     "execution_count": 86,
     "metadata": {},
     "output_type": "execute_result"
    }
   ],
   "source": [
    "# instantiate and fit model\n",
    "\n",
    "forest = RandomForestClassifier()\n",
    "forest.fit(X_train, y_train)"
   ]
  },
  {
   "cell_type": "markdown",
   "id": "1fdd02c7",
   "metadata": {},
   "source": [
    "#### Model evaluation"
   ]
  },
  {
   "cell_type": "code",
   "execution_count": 132,
   "id": "100739fd",
   "metadata": {},
   "outputs": [
    {
     "name": "stdout",
     "output_type": "stream",
     "text": [
      "              precision    recall  f1-score   support\n",
      "\n",
      "       False       1.00      1.00      1.00       548\n",
      "        True       1.00      1.00      1.00       183\n",
      "\n",
      "    accuracy                           1.00       731\n",
      "   macro avg       1.00      1.00      1.00       731\n",
      "weighted avg       1.00      1.00      1.00       731\n",
      "\n",
      "F1 score:  1.0\n"
     ]
    }
   ],
   "source": [
    "# predict and evaluate\n",
    "\n",
    "forest_y_pred = forest.predict(X_test)\n",
    "\n",
    "print(classification_report(y_test, forest_y_pred))\n",
    "print(\"F1 score: \", f1_score(y_test, forest_y_pred))"
   ]
  },
  {
   "cell_type": "markdown",
   "id": "744e2844",
   "metadata": {},
   "source": [
    "As could be expected based on the basic decesion tree, this model also has a perfect f1 score. "
   ]
  },
  {
   "cell_type": "code",
   "execution_count": 88,
   "id": "b92012da",
   "metadata": {},
   "outputs": [
    {
     "data": {
      "text/plain": [
       "1.0"
      ]
     },
     "execution_count": 88,
     "metadata": {},
     "output_type": "execute_result"
    }
   ],
   "source": [
    "# AUC \n",
    "forest_fpr, forest_tpr, thresholds = roc_curve(y_test, forest_y_pred)\n",
    "forest_auc = auc(forest_fpr, forest_tpr)\n",
    "forest_auc"
   ]
  },
  {
   "cell_type": "markdown",
   "id": "9624b40c",
   "metadata": {},
   "source": [
    "The random forest model is also a great model for this specific dataset. "
   ]
  },
  {
   "cell_type": "code",
   "execution_count": 245,
   "id": "3a9025ae",
   "metadata": {},
   "outputs": [
    {
     "data": {
      "image/png": "[encoded data removed]",
      "text/plain": [
       "<Figure size 800x800 with 1 Axes>"
      ]
     },
     "metadata": {},
     "output_type": "display_data"
    }
   ],
   "source": [
    "# plot feature importances\n",
    "plot_feature_importances(forest)"
   ]
  },
  {
   "cell_type": "markdown",
   "id": "85f0ed3d",
   "metadata": {},
   "source": [
    "Max temp and precipitatin are still by far the most important. However, since not all trees were given these two features, it is now apparent that other features have some importance- besides temperature, humidity, sunshine, and radiation had noteable impacts. "
   ]
  },
  {
   "cell_type": "markdown",
   "id": "6cffe1ed",
   "metadata": {},
   "source": [
    "### Bagged tree"
   ]
  },
  {
   "cell_type": "code",
   "execution_count": 79,
   "id": "78d55ed2",
   "metadata": {},
   "outputs": [
    {
     "data": {
      "text/plain": [
       "BaggingClassifier(base_estimator=DecisionTreeClassifier(max_depth=5),\n",
       "                  n_estimators=20)"
      ]
     },
     "execution_count": 79,
     "metadata": {},
     "output_type": "execute_result"
    }
   ],
   "source": [
    "# instantiate\n",
    "\n",
    "bagged_tree =  BaggingClassifier(DecisionTreeClassifier(criterion='gini', max_depth=5), \n",
    "                                 n_estimators=20)\n",
    "\n",
    "# Fit to the training data\n",
    "bagged_tree.fit(X_train, y_train)"
   ]
  },
  {
   "cell_type": "markdown",
   "id": "ed8d3412",
   "metadata": {},
   "source": [
    "#### Model evaluation"
   ]
  },
  {
   "cell_type": "code",
   "execution_count": 80,
   "id": "6bde51f2",
   "metadata": {},
   "outputs": [
    {
     "name": "stdout",
     "output_type": "stream",
     "text": [
      "              precision    recall  f1-score   support\n",
      "\n",
      "       False       1.00      1.00      1.00       548\n",
      "        True       1.00      1.00      1.00       183\n",
      "\n",
      "    accuracy                           1.00       731\n",
      "   macro avg       1.00      1.00      1.00       731\n",
      "weighted avg       1.00      1.00      1.00       731\n",
      "\n",
      "F1 score:  1.0\n"
     ]
    }
   ],
   "source": [
    "bt_y_pred = bagged_tree.predict(X_test)\n",
    "\n",
    "print(classification_report(y_test, bt_y_pred))\n",
    "print(\"F1 score: \", f1_score(y_test, bt_y_pred))"
   ]
  },
  {
   "cell_type": "code",
   "execution_count": 81,
   "id": "d8722f08",
   "metadata": {},
   "outputs": [
    {
     "data": {
      "text/plain": [
       "1.0"
      ]
     },
     "execution_count": 81,
     "metadata": {},
     "output_type": "execute_result"
    }
   ],
   "source": [
    "\n",
    "# Check the AUC of predictions\n",
    "bt_fpr, bt_tpr, thresholds = roc_curve(y_test, bt_y_pred)\n",
    "bt_roc_auc = auc(bt_fpr, bt_tpr)\n",
    "bt_roc_auc"
   ]
  },
  {
   "cell_type": "markdown",
   "id": "b36f9578",
   "metadata": {},
   "source": [
    "#### Random Forest using grid search to find optimal parameters"
   ]
  },
  {
   "cell_type": "code",
   "execution_count": 91,
   "id": "796599b4",
   "metadata": {},
   "outputs": [
    {
     "name": "stdout",
     "output_type": "stream",
     "text": [
      "Testing Accuracy: 99.97%\n",
      "\n",
      "Optimal Parameters: {'criterion': 'entropy', 'max_depth': None, 'min_samples_leaf': 1, 'min_samples_split': 2, 'n_estimators': 50}\n"
     ]
    }
   ],
   "source": [
    "\n",
    "\n",
    "param_grid = {\n",
    "    'n_estimators': [10, 50, 100],\n",
    "    'criterion': ['gini', 'entropy'],\n",
    "    'max_depth': [None, 2, 5],\n",
    "    'min_samples_split': [2, 5],\n",
    "    'min_samples_leaf': [1, 2]\n",
    "}\n",
    "forest_grid_search = GridSearchCV(forest, param_grid, cv=3)\n",
    "forest_grid_search.fit(X_train, y_train)\n",
    "\n",
    "print(f\"Testing Accuracy: {forest_grid_search.best_score_ :.2%}\")\n",
    "\n",
    "print(\"\")\n",
    "print(f\"Optimal Parameters: {forest_grid_search.best_params_}\")"
   ]
  },
  {
   "cell_type": "code",
   "execution_count": 92,
   "id": "0139e502",
   "metadata": {},
   "outputs": [
    {
     "name": "stdout",
     "output_type": "stream",
     "text": [
      "              precision    recall  f1-score   support\n",
      "\n",
      "       False       1.00      1.00      1.00       548\n",
      "        True       1.00      1.00      1.00       183\n",
      "\n",
      "    accuracy                           1.00       731\n",
      "   macro avg       1.00      1.00      1.00       731\n",
      "weighted avg       1.00      1.00      1.00       731\n",
      "\n",
      "F1 score:  1.0\n"
     ]
    }
   ],
   "source": [
    "best_rf = RandomForestClassifier(criterion='entropy',  max_depth= None, min_samples_leaf= 1, min_samples_split= 5, n_estimators= 100)\n",
    "best_rf.fit(X_train, y_train)\n",
    "best_rf_y_pred = best_rf.predict(X_test)\n",
    "\n",
    "print(classification_report(y_test, best_rf_y_pred))\n",
    "print(\"F1 score: \", f1_score(y_test, best_rf_y_pred))"
   ]
  },
  {
   "cell_type": "code",
   "execution_count": 95,
   "id": "634fc9a2",
   "metadata": {},
   "outputs": [
    {
     "data": {
      "image/png": "[encoded data removed]",
      "text/plain": [
       "<Figure size 800x800 with 1 Axes>"
      ]
     },
     "metadata": {},
     "output_type": "display_data"
    }
   ],
   "source": [
    "plot_feature_importances(best_rf)"
   ]
  },
  {
   "cell_type": "markdown",
   "id": "ab15406b",
   "metadata": {},
   "source": [
    "# Evaluation"
   ]
  },
  {
   "cell_type": "markdown",
   "id": "7596526f",
   "metadata": {},
   "source": [
    "The basic decesion tree model, and subsequent more complex models based off decesion trees- the random forest and grid search tuned random forest- far outperformed the logistic regression and K Nearest Neighbors models. While decesion trees can often tend to overfit training data and be more affected by outliers, in this case the decesion tree performed just as good as the more complex models. Since a random forest or bagged tree is much more complex and computationally expensive than a decesion tree, for this dataset the decesion tree is the best model in terms of overall performance and computational complexity. "
   ]
  },
  {
   "cell_type": "code",
   "execution_count": null,
   "id": "446d7136",
   "metadata": {},
   "outputs": [],
   "source": []
  },
  {
   "cell_type": "code",
   "execution_count": null,
   "id": "e35c215c",
   "metadata": {},
   "outputs": [],
   "source": []
  },
  {
   "cell_type": "code",
   "execution_count": null,
   "id": "851ec6d3",
   "metadata": {},
   "outputs": [],
   "source": []
  },
  {
   "cell_type": "code",
   "execution_count": null,
   "id": "46d9d966",
   "metadata": {},
   "outputs": [],
   "source": []
  },
  {
   "cell_type": "markdown",
   "id": "3833f9aa",
   "metadata": {},
   "source": [
    "# Conclusions"
   ]
  },
  {
   "cell_type": "markdown",
   "id": "b8e76b0f",
   "metadata": {},
   "source": [
    "Max temperature and precipitation are by far the most important factors to consider when deciding whether or not to fire up the outdoor charcoal grills. Since temperature for a given day is easier to predict than knowing if it will rain, further attention should be directed towards weather models that accurately predict if the area will receive significant rain. "
   ]
  },
  {
   "cell_type": "code",
   "execution_count": null,
   "id": "b880bbc5",
   "metadata": {},
   "outputs": [],
   "source": []
  },
  {
   "cell_type": "code",
   "execution_count": null,
   "id": "440cbef5",
   "metadata": {},
   "outputs": [],
   "source": []
  },
  {
   "cell_type": "code",
   "execution_count": null,
   "id": "7a500ad5",
   "metadata": {},
   "outputs": [],
   "source": []
  },
  {
   "cell_type": "code",
   "execution_count": null,
   "id": "af86eed2",
   "metadata": {},
   "outputs": [],
   "source": []
  }
 ],
 "metadata": {
  "kernelspec": {
   "display_name": "Python 3",
   "language": "python",
   "name": "python3"
  },
  "language_info": {
   "codemirror_mode": {
    "name": "ipython",
    "version": 3
   },
   "file_extension": ".py",
   "mimetype": "text/x-python",
   "name": "python",
   "nbconvert_exporter": "python",
   "pygments_lexer": "ipython3",
   "version": "3.9.13"
  }
 },
 "nbformat": 4,
 "nbformat_minor": 5
}
